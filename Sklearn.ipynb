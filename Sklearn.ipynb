{
  "nbformat": 4,
  "nbformat_minor": 0,
  "metadata": {
    "colab": {
      "name": "Sklearn.ipynb",
      "version": "0.3.2",
      "provenance": [],
      "collapsed_sections": [],
      "include_colab_link": true
    },
    "kernelspec": {
      "name": "python3",
      "display_name": "Python 3"
    }
  },
  "cells": [
    {
      "cell_type": "markdown",
      "metadata": {
        "id": "view-in-github",
        "colab_type": "text"
      },
      "source": [
        "<a href=\"https://colab.research.google.com/github/rkhiar/IA/blob/master/Sklearn.ipynb\" target=\"_parent\"><img src=\"https://colab.research.google.com/assets/colab-badge.svg\" alt=\"Open In Colab\"/></a>"
      ]
    },
    {
      "metadata": {
        "id": "shw9pvBzZlHy",
        "colab_type": "text"
      },
      "cell_type": "markdown",
      "source": [
        "# sklearn tutorial :\n",
        "\n",
        "## Linear regression :\n",
        "Linear regression tutorial using  boston estate market dataset. \n"
      ]
    },
    {
      "metadata": {
        "id": "gGv4qV7KZpio",
        "colab_type": "code",
        "outputId": "1170651f-4375-4280-bf75-ed949e6da76c",
        "colab": {
          "base_uri": "https://localhost:8080/",
          "height": 1014
        }
      },
      "cell_type": "code",
      "source": [
        "\n",
        "import numpy as np\n",
        "import pandas as pd\n",
        "import matplotlib.pyplot as plt\n",
        "import sklearn\n",
        "from sklearn.linear_model import LinearRegression\n",
        "from sklearn.model_selection import train_test_split\n",
        "\n",
        "\n",
        "\n",
        "from sklearn.datasets import load_boston\n",
        "boston = load_boston()\n",
        "\n",
        "\n",
        "# load_boston is a dictionary !!!!!!!!!!!!!!!!!!\n",
        "\n",
        "#print(boston.keys())\n",
        "#print(boston.data)\n",
        "#print(boston.feature_names)\n",
        "#print(boston.DESCR)\n",
        "\n",
        "\n",
        "#DataFrame creation whith boston data\n",
        "bos = pd.DataFrame(boston.data, columns=boston.feature_names)\n",
        "# Columns header update with boston feature_names\n",
        "#bos.columns = boston.feature_names\n",
        "\n",
        "\n",
        "# DataFrame append with targer values 'PRICES'\n",
        "bos['PRICE']=boston.target\n",
        "\n",
        "\n",
        "print(\"\"\"#################################\"\"\")\n",
        "print(\"\"\"DataFrame\"\"\")\n",
        "print(\"\"\"#################################\"\"\")\n",
        "print(bos.head())\n",
        "\n",
        "\n",
        "#Describe function returning all the basic satistics of our DataFrame\n",
        "#print(bos.describe())\n",
        "\n",
        "# X and y martices creation \n",
        "y=bos['PRICE']\n",
        "X = bos.drop('PRICE', axis = 1)\n",
        "\n",
        "\n",
        "# Spliting our matrices X and Y on training and testing rows\n",
        "# Parameter test_sizen of method  \"train_test_split\" precise the DataTest proportion on our original DataFrame\n",
        "        # In our example we'll have 25% DataTest for 75% DataTrain\n",
        "        # We can check it with the set of shape print bellow\n",
        "# Filling the parameter random_state of method  \"train_test_split\"  allows the same random spliting of our DataFrame\n",
        "        # The value filled doesn't matter, 10, 32, 5, .... hhave the same result\n",
        "#X_train, X_test, y_train, y_test = sklearn.model_selection.train_test_split(X, y, test_size=0.25, random_state=10)\n",
        "X_train, X_test, y_train, y_test = train_test_split(X, y, test_size=0.25, random_state=10)\n",
        "\n",
        "\n",
        "# LinearRegression class Instantiation\n",
        "#lm = sklearn.linear_model.LinearRegression()\n",
        "lm = LinearRegression()\n",
        "\n",
        "# We call the learning method of our object lm\n",
        "lm.fit(X_train, y_train)\n",
        "\n",
        "# We call the predicting method of our object lm\n",
        "Y_pred = lm.predict(X_test)\n",
        "\n",
        "\n",
        "# Comparative DataFrame construction between y_test and Y_pred\n",
        "res=pd.DataFrame(Y_pred.reshape(Y_pred.shape[0],1), columns=np.array(['PREDICTED']))\n",
        "res['REAL']=np.array(y_test)\n",
        "\n",
        "print(\"\"\"#################################\"\"\")\n",
        "print(\"\"\"Comparative matrix\"\"\")\n",
        "print(\"\"\"#################################\"\"\")\n",
        "print(res.head())\n",
        "\n",
        "\n",
        "\n",
        "# MSE Calculation \n",
        "mse = sklearn.metrics.mean_squared_error(y_test, Y_pred)\n",
        "print(\"\"\"#################################\"\"\")\n",
        "print(\"The MSE\")\n",
        "print(\"\"\"#################################\"\"\")\n",
        "print(mse)\n",
        "\n",
        "# weights\n",
        "print(\"\"\"#################################\"\"\")\n",
        "print(\"Our W\")\n",
        "print(\"\"\"#################################\"\"\")\n",
        "print(lm.coef_.shape)\n",
        "\n",
        "print(\"\"\"#################################\"\"\")\n",
        "print(\"Our b\")\n",
        "print(\"\"\"#################################\"\"\")\n",
        "print(lm.intercept_)\n",
        "\n",
        "\n",
        "\n",
        "# Plotting the results\n",
        "plt.scatter(y_test, Y_pred, color='red', marker='+')\n",
        "plt.xlabel(\"Prices\")\n",
        "plt.ylabel(\"Predicted prices\")\n",
        "plt.title(\"Prices vs Predicted prices\")\n",
        "\n",
        "\n",
        "\n"
      ],
      "execution_count": 0,
      "outputs": [
        {
          "output_type": "stream",
          "text": [
            "#################################\n",
            "DataFrame\n",
            "#################################\n",
            "      CRIM    ZN  INDUS  CHAS    NOX     RM   AGE     DIS  RAD    TAX  \\\n",
            "0  0.00632  18.0   2.31   0.0  0.538  6.575  65.2  4.0900  1.0  296.0   \n",
            "1  0.02731   0.0   7.07   0.0  0.469  6.421  78.9  4.9671  2.0  242.0   \n",
            "2  0.02729   0.0   7.07   0.0  0.469  7.185  61.1  4.9671  2.0  242.0   \n",
            "3  0.03237   0.0   2.18   0.0  0.458  6.998  45.8  6.0622  3.0  222.0   \n",
            "4  0.06905   0.0   2.18   0.0  0.458  7.147  54.2  6.0622  3.0  222.0   \n",
            "\n",
            "   PTRATIO       B  LSTAT  PRICE  \n",
            "0     15.3  396.90   4.98   24.0  \n",
            "1     17.8  396.90   9.14   21.6  \n",
            "2     17.8  392.83   4.03   34.7  \n",
            "3     18.7  394.63   2.94   33.4  \n",
            "4     18.7  396.90   5.33   36.2  \n",
            "#################################\n",
            "Comparative matrix\n",
            "#################################\n",
            "   PREDICTED  REAL\n",
            "0  31.114396  28.4\n",
            "1  31.820602  31.1\n",
            "2  30.556206  23.5\n",
            "3  22.440421  26.6\n",
            "4  18.803988  19.6\n",
            "#################################\n",
            "The MSE\n",
            "#################################\n",
            "32.44253669600655\n",
            "#################################\n",
            "Our W\n",
            "#################################\n",
            "(13,)\n",
            "#################################\n",
            "Our b\n",
            "#################################\n",
            "33.715789309666754\n"
          ],
          "name": "stdout"
        },
        {
          "output_type": "execute_result",
          "data": {
            "text/plain": [
              "Text(0.5,1,'Prices vs Predicted prices')"
            ]
          },
          "metadata": {
            "tags": []
          },
          "execution_count": 4
        },
        {
          "output_type": "display_data",
          "data": {
            "image/png": "[encoded data removed]",
            "text/plain": [
              "<matplotlib.figure.Figure at 0x7f4410906470>"
            ]
          },
          "metadata": {
            "tags": []
          }
        }
      ]
    },
    {
      "metadata": {
        "id": "NLDeG24TzCIq",
        "colab_type": "text"
      },
      "cell_type": "markdown",
      "source": [
        "## Logistic regression :\n",
        "### Binary classification\n",
        "Logistic regression tutorial using  breast cancer dataset. "
      ]
    },
    {
      "metadata": {
        "id": "uxItjgK0zNhg",
        "colab_type": "code",
        "outputId": "5bf4a2e9-0758-420d-9d46-a91c694f1d13",
        "colab": {
          "base_uri": "https://localhost:8080/",
          "height": 944
        }
      },
      "cell_type": "code",
      "source": [
        "import numpy as np\n",
        "import pandas as pd\n",
        "import matplotlib.pyplot as plt\n",
        "import sklearn\n",
        "from sklearn.model_selection import train_test_split\n",
        "from sklearn.linear_model import LogisticRegression\n",
        "\n",
        "\n",
        "from sklearn.datasets import load_breast_cancer\n",
        "cancer = load_breast_cancer()\n",
        "\n",
        "\n",
        "#print(cancer.keys())\n",
        "#print(cancer.data)\n",
        "#print(cancer.feature_names)\n",
        "#print(cancer.target_names)\n",
        "#print(cancer.target)\n",
        "#print(cancer.DESCR)\n",
        "\n",
        "#DataFrame creation whith load_breast_cancer data\n",
        "canc = pd.DataFrame(cancer.data, columns=cancer.feature_names)\n",
        "\n",
        "\n",
        "# Diagnostic column creation on DataFrame canc\n",
        "canc['diagnostic']=cancer.target\n",
        "\n",
        "\n",
        "print(\"\"\"#################################\"\"\")\n",
        "print(\"\"\"DataFrame\"\"\")\n",
        "print(\"\"\"#################################\"\"\")\n",
        "print(canc.head())\n",
        "\n",
        "#  X and y matrices construction\n",
        "y=canc['diagnostic']\n",
        "X = canc.drop('diagnostic', axis = 1)\n",
        "\n",
        "\n",
        "# Spliting our matrices X and Y on training and testing rows\n",
        "# Parameter test_size of method  \"train_test_split\" precise the DataTest proportion on our original DataFrame\n",
        "        # In our example we'll have 25% DataTest for 75% DataTrain\n",
        "        # We can check it with the set of shape print bellow\n",
        "# Filling the parameter random_state of method  \"train_test_split\"  allows the same random spliting of our DataFrame\n",
        "        # The value filled doesn't matter, 10, 32, 5, .... hhave the same result\n",
        "X_train, X_test, y_train, y_test = train_test_split(X, y, test_size=0.25, random_state=10)\n",
        "\n",
        "\n",
        "# Logistic Regression class Instantiation\n",
        "logReg = LogisticRegression()\n",
        "\n",
        "# We call the learning method of our object lm\n",
        "logReg.fit(X_train,y_train)\n",
        "\n",
        "# We call the predicting method of our object lm\n",
        "Y_pred = logReg.predict(X_test)\n",
        "\n",
        "\n",
        "# Comparative DataFrame construction between y_test and Y_pred\n",
        "res=pd.DataFrame(Y_pred.reshape(Y_pred.shape[0],1), columns=np.array(['PREDICTED']))\n",
        "res['REAL']=np.array(y_test)\n",
        "\n",
        "print(\"\"\"#################################\"\"\")\n",
        "print(\"\"\"Comparative matrix\"\"\")\n",
        "print(\"\"\"#################################\"\"\")\n",
        "print(res.head())\n",
        "\n",
        "\n",
        "# The function score is kind of a loss function \n",
        "# The more our prediction on data test is accurate, the more score fuction will be close to 1 \n",
        "\n",
        "print(\"\"\"#################################\"\"\")\n",
        "print(\"\"\"Score fuction\"\"\")\n",
        "print(\"\"\"#################################\"\"\")\n",
        "print(logReg.score(X_test, y_test))\n"
      ],
      "execution_count": 0,
      "outputs": [
        {
          "output_type": "stream",
          "text": [
            "#################################\n",
            "DataFrame\n",
            "#################################\n",
            "   mean radius  mean texture  mean perimeter  mean area  mean smoothness  \\\n",
            "0        17.99         10.38          122.80     1001.0          0.11840   \n",
            "1        20.57         17.77          132.90     1326.0          0.08474   \n",
            "2        19.69         21.25          130.00     1203.0          0.10960   \n",
            "3        11.42         20.38           77.58      386.1          0.14250   \n",
            "4        20.29         14.34          135.10     1297.0          0.10030   \n",
            "\n",
            "   mean compactness  mean concavity  mean concave points  mean symmetry  \\\n",
            "0           0.27760          0.3001              0.14710         0.2419   \n",
            "1           0.07864          0.0869              0.07017         0.1812   \n",
            "2           0.15990          0.1974              0.12790         0.2069   \n",
            "3           0.28390          0.2414              0.10520         0.2597   \n",
            "4           0.13280          0.1980              0.10430         0.1809   \n",
            "\n",
            "   mean fractal dimension     ...      worst texture  worst perimeter  \\\n",
            "0                 0.07871     ...              17.33           184.60   \n",
            "1                 0.05667     ...              23.41           158.80   \n",
            "2                 0.05999     ...              25.53           152.50   \n",
            "3                 0.09744     ...              26.50            98.87   \n",
            "4                 0.05883     ...              16.67           152.20   \n",
            "\n",
            "   worst area  worst smoothness  worst compactness  worst concavity  \\\n",
            "0      2019.0            0.1622             0.6656           0.7119   \n",
            "1      1956.0            0.1238             0.1866           0.2416   \n",
            "2      1709.0            0.1444             0.4245           0.4504   \n",
            "3       567.7            0.2098             0.8663           0.6869   \n",
            "4      1575.0            0.1374             0.2050           0.4000   \n",
            "\n",
            "   worst concave points  worst symmetry  worst fractal dimension  diagnostic  \n",
            "0                0.2654          0.4601                  0.11890           0  \n",
            "1                0.1860          0.2750                  0.08902           0  \n",
            "2                0.2430          0.3613                  0.08758           0  \n",
            "3                0.2575          0.6638                  0.17300           0  \n",
            "4                0.1625          0.2364                  0.07678           0  \n",
            "\n",
            "[5 rows x 31 columns]\n",
            "#################################\n",
            "Comparative matrix\n",
            "#################################\n",
            "   PREDICTED  REAL\n",
            "0          0     0\n",
            "1          1     1\n",
            "2          1     1\n",
            "3          0     0\n",
            "4          1     1\n",
            "#################################\n",
            "Score fuction\n",
            "#################################\n",
            "0.9370629370629371\n"
          ],
          "name": "stdout"
        },
        {
          "output_type": "stream",
          "text": [
            "/usr/local/lib/python3.6/dist-packages/sklearn/linear_model/logistic.py:433: FutureWarning: Default solver will be changed to 'lbfgs' in 0.22. Specify a solver to silence this warning.\n",
            "  FutureWarning)\n"
          ],
          "name": "stderr"
        }
      ]
    },
    {
      "metadata": {
        "id": "kwibun4V7_WD",
        "colab_type": "text"
      },
      "cell_type": "markdown",
      "source": [
        "### Multiclass classification\n",
        "Logistic regression tutorial using  digits recognition  dataset. "
      ]
    },
    {
      "metadata": {
        "id": "0lGNoMlLUfOg",
        "colab_type": "code",
        "outputId": "dc7d1ee6-bab5-4cf6-a742-ebe249754d7c",
        "colab": {
          "base_uri": "https://localhost:8080/",
          "height": 1522
        }
      },
      "cell_type": "code",
      "source": [
        "import numpy as np\n",
        "import pandas as pd\n",
        "import matplotlib.pyplot as plt\n",
        "import sklearn\n",
        "from sklearn.model_selection import train_test_split\n",
        "from sklearn.linear_model import LogisticRegression\n",
        "from sklearn.metrics import confusion_matrix\n",
        "\n",
        "\n",
        "from sklearn.datasets import load_digits\n",
        "digits = load_digits()\n",
        "\n",
        "\n",
        "\n",
        "#print(digits.keys())\n",
        "#print(digits.data)\n",
        "#print(digits.target_names)\n",
        "#print(digits.target)\n",
        "#print(digits.DESCR)\n",
        "\n",
        "# To display the picture stored in digits.images \n",
        "print(\"\"\"#################################\"\"\")\n",
        "print(\"\"\"Image example \"\"\")\n",
        "print(\"\"\"#################################\"\"\")\n",
        "plt.gray()\n",
        "plt.matshow(digits.images[1])\n",
        "\n",
        "\n",
        "#DataFrame creation whith load_digits data\n",
        "dig = pd.DataFrame(digits.data)\n",
        "\n",
        "\n",
        "# Target column creation on DataFrame dig\n",
        "# Target represent the real result\n",
        "dig['num']=digits.target\n",
        "\n",
        "\n",
        "print(\"\"\"#################################\"\"\")\n",
        "print(\"\"\"DataFrame (head) \"\"\")\n",
        "print(\"\"\"#################################\"\"\")\n",
        "print(dig.head())\n",
        "\n",
        "#  X and y matrices construction\n",
        "y=dig['num']\n",
        "X = dig.drop('num', axis = 1)\n",
        "\n",
        "\n",
        "# Spliting our matrices X and Y on training and testing rows\n",
        "# Parameter test_size of method  \"train_test_split\" precise the DataTest proportion on our original DataFrame\n",
        "        # In our example we'll have 25% DataTest for 75% DataTrain\n",
        "        # We can check it with the set of shape print bellow\n",
        "# Filling the parameter random_state of method  \"train_test_split\"  allows the same random spliting of our DataFrame\n",
        "        # The value filled doesn't matter, 10, 32, 5, .... have the same result\n",
        "X_train, X_test, y_train, y_test = train_test_split(X, y, test_size=0.25, random_state=10)\n",
        "\n",
        "\n",
        "# Logistic Regression class Instantiation\n",
        "logReg = LogisticRegression()\n",
        "\n",
        "# We call the learning method of our object logReg\n",
        "logReg.fit(X_train,y_train)\n",
        "\n",
        "# We call the predicting method of our object logReg\n",
        "y_pred = logReg.predict(X_test)\n",
        "\n",
        "\n",
        "\n",
        "# Comparative DataFrame construction between y_test and Y_pred\n",
        "res=pd.DataFrame(y_pred.reshape(y_pred.shape[0],1), columns=np.array(['PREDICTED']))\n",
        "res['REAL']=np.array(y_test)\n",
        "\n",
        "print(\"\"\"#################################\"\"\")\n",
        "print(\"\"\"Comparative matrix\"\"\")\n",
        "print(\"\"\"#################################\"\"\")\n",
        "print(res.head())\n",
        "\n",
        "\n",
        "# The function score is a performance function \n",
        "# The more our prediction on data test is accurate, the more score fuction will be close to 1 \n",
        "\n",
        "print(\"\"\"#################################\"\"\")\n",
        "print(\"\"\"Score fuction\"\"\")\n",
        "print(\"\"\"#################################\"\"\")\n",
        "print(logReg.score(X_test, y_test))\n",
        "\n",
        "\n",
        "\n",
        "# Confusion matrix construction\n",
        "# This matrix arellows a visualisation of the prediction accurency  \n",
        "# Each data crossing represent how many time a truth value (y axis) has been predicted by a predicted value (x axis)\n",
        "# All values out of the diagonal are wrong predictions\n",
        "\n",
        "cm=confusion_matrix(y_test, y_pred)\n",
        "\n",
        "print(\"\"\"#################################\"\"\")\n",
        "print(\"\"\"Confusion Matrix\"\"\")\n",
        "print(\"\"\"#################################\"\"\")\n",
        "import seaborn as sn\n",
        "plt.figure(figsize=(10,7))\n",
        "sn.heatmap(cm, annot=True)\n",
        "plt.xlabel(\"Predicted\")\n",
        "plt.ylabel(\"Truth\")\n",
        "\n"
      ],
      "execution_count": 0,
      "outputs": [
        {
          "output_type": "stream",
          "text": [
            "#################################\n",
            "Image example \n",
            "#################################\n",
            "#################################\n",
            "DataFrame (head) \n",
            "#################################\n",
            "     0    1    2     3     4     5    6    7    8    9 ...    55   56   57  \\\n",
            "0  0.0  0.0  5.0  13.0   9.0   1.0  0.0  0.0  0.0  0.0 ...   0.0  0.0  0.0   \n",
            "1  0.0  0.0  0.0  12.0  13.0   5.0  0.0  0.0  0.0  0.0 ...   0.0  0.0  0.0   \n",
            "2  0.0  0.0  0.0   4.0  15.0  12.0  0.0  0.0  0.0  0.0 ...   0.0  0.0  0.0   \n",
            "3  0.0  0.0  7.0  15.0  13.0   1.0  0.0  0.0  0.0  8.0 ...   0.0  0.0  0.0   \n",
            "4  0.0  0.0  0.0   1.0  11.0   0.0  0.0  0.0  0.0  0.0 ...   0.0  0.0  0.0   \n",
            "\n",
            "    58    59    60    61   62   63  num  \n",
            "0  6.0  13.0  10.0   0.0  0.0  0.0    0  \n",
            "1  0.0  11.0  16.0  10.0  0.0  0.0    1  \n",
            "2  0.0   3.0  11.0  16.0  9.0  0.0    2  \n",
            "3  7.0  13.0  13.0   9.0  0.0  0.0    3  \n",
            "4  0.0   2.0  16.0   4.0  0.0  0.0    4  \n",
            "\n",
            "[5 rows x 65 columns]\n"
          ],
          "name": "stdout"
        },
        {
          "output_type": "stream",
          "text": [
            "/usr/local/lib/python3.6/dist-packages/sklearn/linear_model/logistic.py:433: FutureWarning: Default solver will be changed to 'lbfgs' in 0.22. Specify a solver to silence this warning.\n",
            "  FutureWarning)\n",
            "/usr/local/lib/python3.6/dist-packages/sklearn/linear_model/logistic.py:460: FutureWarning: Default multi_class will be changed to 'auto' in 0.22. Specify the multi_class option to silence this warning.\n",
            "  \"this warning.\", FutureWarning)\n"
          ],
          "name": "stderr"
        },
        {
          "output_type": "stream",
          "text": [
            "#################################\n",
            "Comparative matrix\n",
            "#################################\n",
            "   PREDICTED  REAL\n",
            "0          5     5\n",
            "1          2     2\n",
            "2          5     5\n",
            "3          4     4\n",
            "4          1     8\n",
            "#################################\n",
            "Score fuction\n",
            "#################################\n",
            "0.9577777777777777\n",
            "#################################\n",
            "Confusion Matrix\n",
            "#################################\n"
          ],
          "name": "stdout"
        },
        {
          "output_type": "execute_result",
          "data": {
            "text/plain": [
              "Text(69,0.5,'Truth')"
            ]
          },
          "metadata": {
            "tags": []
          },
          "execution_count": 1
        },
        {
          "output_type": "display_data",
          "data": {
            "text/plain": [
              "<matplotlib.figure.Figure at 0x7f387ff53e10>"
            ]
          },
          "metadata": {
            "tags": []
          }
        },
        {
          "output_type": "display_data",
          "data": {
            "image/png": "[encoded data removed]",
            "text/plain": [
              "<matplotlib.figure.Figure at 0x7f389ade5d30>"
            ]
          },
          "metadata": {
            "tags": []
          }
        },
        {
          "output_type": "display_data",
          "data": {
            "image/png": "[encoded data removed]",
            "text/plain": [
              "<matplotlib.figure.Figure at 0x7f387c0abeb8>"
            ]
          },
          "metadata": {
            "tags": []
          }
        }
      ]
    }
  ]
}