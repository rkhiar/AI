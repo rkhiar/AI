{
  "nbformat": 4,
  "nbformat_minor": 0,
  "metadata": {
    "colab": {
      "name": "2 - Logistic Regression and SoftMax.ipynb",
      "provenance": [],
      "collapsed_sections": [],
      "include_colab_link": true
    },
    "language_info": {
      "codemirror_mode": {
        "name": "ipython",
        "version": 3
      },
      "file_extension": ".py",
      "mimetype": "text/x-python",
      "name": "python",
      "nbconvert_exporter": "python",
      "pygments_lexer": "ipython3",
      "version": "3.6.3"
    },
    "kernelspec": {
      "display_name": "Python 3",
      "language": "python",
      "name": "python3"
    },
    "accelerator": "GPU"
  },
  "cells": [
    {
      "cell_type": "markdown",
      "metadata": {
        "id": "view-in-github",
        "colab_type": "text"
      },
      "source": [
        "<a href=\"https://colab.research.google.com/github/rkhiar/IA/blob/master/2_Logistic_Regression_and_SoftMax.ipynb\" target=\"_parent\"><img src=\"https://colab.research.google.com/assets/colab-badge.svg\" alt=\"Open In Colab\"/></a>"
      ]
    },
    {
      "cell_type": "markdown",
      "metadata": {
        "colab_type": "text",
        "id": "yf9GqNKDuonV"
      },
      "source": [
        "# Chapter 2.2: Logistic and Softmax Regressions"
      ]
    },
    {
      "cell_type": "markdown",
      "metadata": {
        "colab_type": "text",
        "id": "oh0MSadCxFuF"
      },
      "source": [
        "# Logistic Regression"
      ]
    },
    {
      "cell_type": "markdown",
      "metadata": {
        "colab_type": "text",
        "id": "vgHy1qkcXmVT"
      },
      "source": [
        "## Definition\n",
        "\n",
        "\n",
        "*  Logistic regression is a model (fancy word to say equation) that relates  ***categorical*** output to one or more ***numerical*** inputs.\n",
        "\n",
        "* For example one would use logistic regression to predict the category of a person  (Child or Adult) from the values of Weight and Height.\n",
        "\n",
        "* In the figure below the model is represented by the green line that separates between the two categories of points.\n",
        "\n",
        "![](https://drive.google.com/uc?export=view&id=14HVZfwLtmAg1UWaadoK2HoRuDTxAGNZj)\n",
        "\n",
        "\n",
        "* The line equation is given as follows\n",
        "\n",
        "\\begin{equation}\n",
        "Height = - Weight + 205 \\iff  Weight + Height  - 205 = 0.\n",
        "\\end{equation}\n",
        "\n",
        "\n",
        "* The category of the person is obtained by the following function of $Weight$ and $Height$  \n",
        "\n",
        "\\begin{equation}\n",
        "f(Weight,Height) = Weight + Height  - 205\n",
        "\\end{equation}\n",
        "\n",
        "* such that:\n",
        "  \n",
        "  * $f(Weight,Height) \\geq 0$ means the point defined with the coordinates $(Weight,Height)$  lies ***above*** the green line and  belongs to  ***Adults***;\n",
        "  \n",
        "  * $f(Weight,Height) \\leq 0$ the point is ***below*** the green line and the person is classified amongst ***Children***;\n",
        "  \n",
        "  * $f(Weight,Height) = 0$ the person lies ***on*** the green line and is considered to be between the two categories .\n",
        "  \n",
        "  \n",
        "* The quantity $f(Weight,Height)$ is refered as the ***score*** (that a given person is an Adult in our example) and it is translated into ***probability***   through the ***Logistic Function*** as follows\n",
        "\n",
        "\n",
        "\\begin{equation}\n",
        "P(y = Adult | Weight, Height) = \\frac{1}{1 + e^{-f(Weight,Height)}}.\n",
        "\\end{equation}\n",
        "  \n",
        "\n",
        "* Indeed we can see from the plot below of the logistic function that any $z \\in {\\rm I\\!R}$ is turned into an output $\\in [0,1]$."
      ]
    },
    {
      "cell_type": "markdown",
      "metadata": {
        "colab_type": "text",
        "id": "oEc5op5Vsfma"
      },
      "source": [
        "*  Formally speaking  binary logistic regression is the probability that $\\bf{x} = [x_1,\\ldots,x_d]^T$ belongs to class $1$ \n",
        "\n",
        "\\begin{equation}\n",
        "P(y = 1| \\bf{x}) = \\frac{1}{1 + e^{-(\\bf{w}^T\\bf{x} + b})},\n",
        "\\end{equation}\n",
        "\n",
        "* where $w^T \\in  {\\rm I\\!R}^d$ is the vector of weights and $b \\in  {\\rm I\\!R}$ is the bias.\n",
        "\n",
        "\n",
        "* Please note the following\n",
        "\n",
        "  * The modele computes for a given observation $\\bf{x}$  the belonging probability to one class ***only***;\n",
        "  \n",
        "  * The belonging probability to the other class can be deduced by the complementary rule of probability \n",
        "  \n",
        "  \\begin{equation}\n",
        "  P(y = 0 | \\bf{x}) = 1 -P(y = 1| \\bf{x}) .\n",
        "  \\end{equation}"
      ]
    },
    {
      "cell_type": "markdown",
      "metadata": {
        "colab_type": "text",
        "id": "nHi6AFDmfH0Y"
      },
      "source": [
        "\n",
        "![](https://drive.google.com/uc?export=view&id=1383aDQg_sGYeYUhk2pFwNNX5TRIzJlwh)"
      ]
    },
    {
      "cell_type": "markdown",
      "metadata": {
        "colab_type": "text",
        "id": "7B89fmzzWGeg"
      },
      "source": [
        "# Softmax Regression\n",
        "\n",
        "\n",
        "\n"
      ]
    },
    {
      "cell_type": "markdown",
      "metadata": {
        "colab_type": "text",
        "id": "iEpN6Lx_Bi3v"
      },
      "source": [
        "## Definition\n",
        "\n",
        "* Softmax regression is the extension  of logistic regression over $C$ classes.\n",
        "\n",
        "\n",
        "\n"
      ]
    },
    {
      "cell_type": "markdown",
      "metadata": {
        "colab_type": "text",
        "id": "RU4FY5msMxEG"
      },
      "source": [
        "![](https://drive.google.com/uc?export=view&id=1zs42I6MSrdWTO-dcuGGU4ijy_qi7II2g)"
      ]
    },
    {
      "cell_type": "markdown",
      "metadata": {
        "colab_type": "text",
        "id": "_Cn10NxiNR4P"
      },
      "source": [
        "* To deal with $C$ classes problem we define $C$ binary regressions. Just like any kind of sectarism, each category discriminates its specific class over all the others."
      ]
    },
    {
      "cell_type": "markdown",
      "metadata": {
        "colab_type": "text",
        "id": "zmXTFL90Nr84"
      },
      "source": [
        "![](https://drive.google.com/uc?export=view&id=1GiF3jgiRmllA0NYO0_dIvgttKBuIc07n)\n"
      ]
    },
    {
      "cell_type": "markdown",
      "metadata": {
        "colab_type": "text",
        "id": "aIBTT4L9BveF"
      },
      "source": [
        "\n",
        "  \n",
        "  *  So for a given data point $\\bf{x} \\in {\\rm I\\!R^d}$ softmax regression  calculates the belonging probability to every class and packes it into one vector \n",
        "  \n",
        "  \n",
        "  \\begin{equation}\n",
        "  \\begin{bmatrix}\n",
        "  P(y = 0 | \\bf{x})\\\\\n",
        "  P(y = 1 | \\bf{x})\\\\\n",
        "  \\vdots\\\\\n",
        "  P(y = C-1 | \\bf{x})\n",
        "  \\end{bmatrix}\n",
        "  \\end{equation}\n",
        "  \n",
        "  * such as these probabilities sum to $1$.\n",
        "\n",
        "\n"
      ]
    },
    {
      "cell_type": "markdown",
      "metadata": {
        "colab_type": "text",
        "id": "Z4vktFWGsKUm"
      },
      "source": [
        "* The vector of probabilities above is obtained through the vector of scores $\\bf{s}$  \n",
        "\n",
        "\\begin{equation}\n",
        "\\bf{s} = \n",
        "\\begin{bmatrix}\n",
        "s_1\\\\\n",
        "\\vdots\\\\\n",
        "s_k\n",
        "\\end{bmatrix}\n",
        "= \\bf{W} \\bf{x} + b = \n",
        "\\begin{bmatrix}\n",
        "w_{11} & \\ldots & w_{1d}\\\\\n",
        "\\vdots & \\ddots & \\vdots\\\\\n",
        "w_{k1} & \\ldots & w_{kd}\n",
        "\\end{bmatrix}\n",
        "\\begin{bmatrix}\n",
        "x_1 \\\\\n",
        "\\vdots\\\\\n",
        "x_d\n",
        "\\end{bmatrix} + \n",
        "\\begin{bmatrix}\n",
        "b_1\\\\\n",
        "\\vdots\\\\\n",
        "b_k\n",
        "\\end{bmatrix}\n",
        "\\end{equation}\n"
      ]
    },
    {
      "cell_type": "markdown",
      "metadata": {
        "colab_type": "text",
        "id": "qKSInhtMr-tw"
      },
      "source": [
        "* where $\\bf{W} \\in  {\\rm I\\!R^{k \\times d}}$ and   $\\bf{b} \\in  {\\rm I\\!R^k}$ are respectively the matrix of weights and  the vector of biais.\n",
        "\n",
        "* The $k^{th}$ row of $\\bf{W}$ with the $k^{th}$ element of $\\bf{b}$ list the parameters of the logistic regression that classifies the elements of the class $k$ against the others. \n",
        "\n"
      ]
    },
    {
      "cell_type": "markdown",
      "metadata": {
        "colab_type": "text",
        "id": "GPQiM1E7sG9E"
      },
      "source": [
        "* The vector $\\bf{s}$ is then transformed into vector of probabilities $\\bf{\\hat{p}} \\in  {\\rm I\\!R^k}$ as follows\n",
        "\n",
        "\n",
        "\\begin{equation}\n",
        "\\bf{\\hat{p}}=\n",
        "\\begin{bmatrix}\n",
        "\\hat{p}_1\\\\\n",
        "\\vdots\\\\\n",
        "\\hat{p}_k\\\\\n",
        "\\end{bmatrix}\n",
        "=\n",
        "\\begin{bmatrix}\n",
        "\\frac{e^{s_1}}{\\sum_{i = 1}^{k} e^{s_i}}\\\\\n",
        "\\vdots\\\\\n",
        "\\frac{e^{s_k}}{\\sum_{i = 1}^{k} e^{s_i}}\\\\\n",
        "\\end{bmatrix}.\n",
        "\\end{equation}\n",
        "\n",
        "\n",
        "* The function that transformes each score $s_j$ from the vector $\\bf{s}$  into probability is called ***softmax***.\n",
        "\n",
        "* Note however to transform $s_j$ into $\\hat{p}_j$ the ***scalar*** softmax function requires the other scores $\\{s_i, i \\neq j \\}$ \n",
        "\n",
        "\n",
        "\\begin{equation}\n",
        "softmax(j,\\bf{s}) = \\frac{e^{s_j}}{\\sum_{i = 1}^{k} e^{s_i}}.\n",
        "\\end{equation}\n",
        "\n",
        "* The ***vector*** version of softmax function is defined as\n",
        "\\begin{equation}\n",
        "softmax(\\bf{s}) = \n",
        "\\begin{bmatrix}\n",
        "softmax(1,\\bf{s})\\\\\n",
        "\\vdots\\\\\n",
        "softmax(k,\\bf{s})\n",
        "\\end{bmatrix}. \n",
        "\\end{equation}\n",
        "\n",
        "\n",
        "* Finally the softmax of any $\\bf{x}$ is compactly expressed as \n",
        "\n",
        "\\begin{equation}\n",
        "\\hat{p} =  softmax(\\bf{W} \\bf{x} + \\bf{b}).\n",
        "\\end{equation}\n",
        "\n"
      ]
    },
    {
      "cell_type": "markdown",
      "metadata": {
        "colab_type": "text",
        "id": "JrCzemMZUPnz"
      },
      "source": [
        "## Formalization"
      ]
    },
    {
      "cell_type": "markdown",
      "metadata": {
        "colab_type": "text",
        "id": "psd-N74lFzQn"
      },
      "source": [
        "* Let $\\bf{X}$ be a dataset of $n$ examples described through $d$ variables and $\\bf{y}$  the corresponding vector of outputs.\n",
        "\n",
        "\\begin{equation}\n",
        "\\bf{X} = \n",
        "\\begin{bmatrix}\n",
        "x_{11} & \\ldots & x_{1d}\\\\\n",
        "\\vdots & \\ddots  & \\vdots \\\\\n",
        "x_{n1} &\\ldots & x_{nd}\n",
        "\\end{bmatrix},\n",
        "\\quad \\bf{y} = \n",
        "\\begin{bmatrix}\n",
        "y_1\\\\\n",
        "\\vdots\\\\\n",
        "y_n\n",
        "\\end{bmatrix}.\n",
        "\\end{equation}\n",
        "\n",
        "\n",
        "* Every $i^{th}$ entry of $\\bf{y}$ represents the  category of the $i^{th}$ row in $\\bf{X}$.\n",
        "\n",
        "* Let $k$ be the number of categories. The value of every $y_i$ is an integer between  $1$ and $k$.\n",
        "\n",
        "* In order to train the softmax regression from the data  we first  transform $\\bf{y}$ into matrix of probabilities  \n",
        "\n",
        "\\begin{equation}\n",
        "\\bf{P} =\n",
        "\\begin{bmatrix}\n",
        "p_{11} & \\ldots & p_{1k}\\\\\n",
        "\\vdots & \\ddots & \\vdots \\\\\n",
        "p_{n1} & \\ldots & p_{nk}\n",
        "\\end{bmatrix}\n",
        "\\end{equation}"
      ]
    },
    {
      "cell_type": "markdown",
      "metadata": {
        "colab_type": "text",
        "id": "2LG6xltu9cgw"
      },
      "source": [
        "* where each entry $\\bf{P}_{ij}$ describes the probability that the $i^{th}$ example of $\\bf{X}$ belongs to the class $j$.\n",
        "\n",
        "* It is easy to see that for every row of $\\bf{P}$ only one entry will be set to $1$ while all the others will be at $0$ in which case rows of $\\bf{P}$ are said to be ***One Hot***. \n",
        "\n",
        "* The matrix  $\\bf{P}$ can be used to represent membership to several classes with different probabilities. \n",
        "\n",
        "\n"
      ]
    },
    {
      "cell_type": "markdown",
      "metadata": {
        "colab_type": "text",
        "id": "yLGNjcl4TgRd"
      },
      "source": [
        "* Let $\\bf{\\hat{P}}$ be the matrix of probabilities estimated through softmax regression for some values of $\\bf{W}$ and $\\bf{b}$ \n",
        "\n",
        "\\begin{equation}\n",
        "\\bf{\\hat{P}} = \n",
        "\\begin{bmatrix}\n",
        "\\hat{p}_{11} & \\ldots & \\hat{p}_{1k}\\\\\n",
        "\\vdots & \\ddots & \\vdots \\\\\n",
        "\\hat{p}_{n1} & \\ldots & \\hat{p}_{nk}\n",
        "\\end{bmatrix}=\n",
        "softmax(\\bf{X}W^T + \\bf{b}^T) \n",
        "\\end{equation}\n",
        "\n",
        "\n",
        "* Please note the dimensionality of $\\bf{X} \\bf{W}^T$ is $n \\times k$ which makes the sum with $\\bf{b}^T$ impossible in classical linear algebra. \n",
        "\n",
        "* To avoid duplicating $\\bf{b}^T$ $n$ times we introduce the operation of ***broadcasting*** which allows $\\bf{b}^T$ to distribute on every row of $\\bf{X} \\bf{W}^T$.\n",
        "\n",
        "* Broadcasting is not a mathematical operation but it is widespread amongst Machine Learning people also it is supported by Numpy.\n",
        "\n",
        "\n",
        "* Lasty we define $\\bf{\\hat{y}}$ as the vector of estimated classes \n",
        "\n",
        "\\begin{equation}\n",
        "\\bf{\\hat{y}} =\n",
        "\\begin{bmatrix}\n",
        "\\hat{y}_1\\\\\n",
        "\\vdots\\\\\n",
        "\\hat{y}_n\\\\\n",
        "\\end{bmatrix} =\n",
        "\\begin{bmatrix}\n",
        "argmax(\\bf{\\hat{P}}_{1,:})\\\\\n",
        "\\vdots\\\\\n",
        "argmax(\\bf{\\hat{P}}_{n,:})\\\\\n",
        "\\end{bmatrix} - 1,\n",
        "\\end{equation}\n"
      ]
    },
    {
      "cell_type": "markdown",
      "metadata": {
        "colab_type": "text",
        "id": "G0fBXOrYZ1GD"
      },
      "source": [
        "* where $argmax(\\bf{x})$ is a function that for a given vector $\\bf{x}$ returns the index of the biggest value."
      ]
    },
    {
      "cell_type": "markdown",
      "metadata": {
        "colab_type": "text",
        "id": "oLsE854EUkeB"
      },
      "source": [
        "## Loss Function"
      ]
    },
    {
      "cell_type": "markdown",
      "metadata": {
        "colab_type": "text",
        "id": "Lfe5GHShUrYa"
      },
      "source": [
        "* Now we get to serious things.  We need a function that informs us about the performance of our model and thus of the parameters that shape it.\n",
        "\n",
        "* In classification tasks the loss function is known as ***negative log-likelihood*** or ***cross entropy*** (if you're logarithm-phobic)  \n",
        "\n",
        "\\begin{equation}\n",
        "J(\\bf{W}, \\bf{b}) = \\frac{1}{n}\\sum_{i = 1}^n \\sum_{j = 1}^k -p_{i,j} \\log(\\hat{p}_{i,j}),\n",
        "\\end{equation}\n",
        "\n",
        "* where:\n",
        "\n",
        "  * $p_{i,j}$ is the ***true*** probability that the $i^{th}$ data point $\\bf{X}_{i,:}$ belongs to the $j^{th}$ class;\n",
        "  * $\\hat{p}_{i,j}$ is the ***estimated*** probability that the $i^{th}$ data point $\\bf{X}_{i,:}$ belongs to the $j^{th}$ class.\n",
        " "
      ]
    },
    {
      "cell_type": "markdown",
      "metadata": {
        "colab_type": "text",
        "id": "1qxjQV2Qh-SM"
      },
      "source": [
        "* Frighten  not, sit and ponder over the wisdom of the above equation  :\n",
        "   * If  $P_{i,:}$ are one-hot vectors then  $p_{i,y_i} = 1$  and $\\{p_{i,j} = 0, j \\neq y_i\\}$ thus the sum $\\sum_{j = 1}^k - p_{i,j} \\log(\\hat{p}_{i,j}) = - \\log(\\hat{p}_{i,y_i})$.\n",
        "  * If the predicted probability $\\hat{p}_{i,y_i}$ tends to $1$ its $\\log$  tends to $0$ (see red plot below if you don't believe me);\n",
        "  * If however the predicted probability $\\hat{p}_{i,y_i}$ tends to $0$ then its $\\log$  will tend towards $- \\infty$ (see red plot below);\n",
        "  * from this we get that the less precise we predict $\\hat{p}_{i,y_i}$ the bigger will be $- \\hat{p}_{i,j}$ and vice versa (see blue plot below).\n",
        "  * The operation  $ \\frac{1}{n}\\sum_{i = 1}^n$ produces an average of the negative log-likelihoods.\n",
        "  \n",
        "  *  In the case  $P_{i,:}$ are not one-hot vectors the mechanisms described above still apply.\n",
        " "
      ]
    },
    {
      "cell_type": "markdown",
      "metadata": {
        "colab_type": "text",
        "id": "tY-NU16ab43r"
      },
      "source": [
        "![](https://drive.google.com/uc?export=view&id=1rcmxwPDQq-ABDc4dYCpfwuK8W2_5p-Fb)"
      ]
    },
    {
      "cell_type": "markdown",
      "metadata": {
        "colab_type": "text",
        "id": "aRq2RB8KaZcI"
      },
      "source": [
        "## Estimation of $\\bf{W}$ and $\\bf{b}$"
      ]
    },
    {
      "cell_type": "markdown",
      "metadata": {
        "colab_type": "text",
        "id": "F9EmrcMk07s4"
      },
      "source": [
        "* The parameters are estimated with gradient descent over the negative log-likelihood loss function.\n",
        "\n",
        "* In Linear Regression tutorial we introduced the Gradient Descent algorithm.\n",
        "\n",
        "* The algorithm is pretty straightforward: keep moving the values of $\\bf{W}$ and $\\bf{b}$ until we reach the minimum of $J$.\n",
        "\n",
        "* The direction into which the parameters are moved is given by the gradient $\\nabla_{\\bf{W}, \\bf{b}} J$.\n",
        "\n",
        "* If you were frightened the first time you met with Negative Log-likehood loss function, you should trust your first feelings more often. \n",
        "\n",
        "* Indeed the computation of derivatives w.r.t to elements of $\\bf{W}$ and $\\bf{b}$ can seem complex.\n",
        "\n",
        "* To make computation simple we take you back to high school derivative rules and transport you far beyond.\n",
        "\n",
        "\n"
      ]
    },
    {
      "cell_type": "markdown",
      "metadata": {
        "colab_type": "text",
        "id": "mcQlq1LZnFvg"
      },
      "source": [
        "### Derivative, Gradient and Jacobian\n",
        "\n",
        "* Let $y = f(x)$ be a given function. \n",
        "\n",
        "* We want to consider the derivation of $f$ for different dimensionalities of $x$ and $y$ : \n",
        "\n",
        "  1. for $x,y \\in  {\\rm I\\!R}$, $f$ is represented by the left graph (1) below such that:\n",
        "  \n",
        "    * each variable is associated to a coloured circle;\n",
        "    * the dependency of $y$ to $x$ is expressed by the arrow from $x$ to $y$;\n",
        "    * the derivative of $y$ w.r.t $x$ is simply \n",
        "   \\begin{equation}\n",
        "   \\frac{dy}{dx}.\n",
        "   \\end{equation}\n",
        "\n",
        "  2. for $\\bf{x} \\in {\\rm I\\!R^3}, y \\in {\\rm I\\!R}$, $f$ is represented by the middle graph (2) below such that: \n",
        "  \n",
        "    * input and output variables are associated to same coloured circles;\n",
        "    * the dependency of $y$ to $x_1,x_2,x_3$ is expressed by the $3$ arrows from $\\bf{x}$ to $y$\n",
        "    * the partial derivatives of $y$ w.r.t $\\bf{x}$ are given by the ***gradient*** \n",
        "    \n",
        "     \\begin{equation}\n",
        "    \\nabla_{\\bf{x}} y = \n",
        "    \\begin{bmatrix}\n",
        "    \\frac{\\partial y}{\\partial x_1}\\\\\n",
        "    \\frac{\\partial y}{\\partial x_2}\\\\\n",
        "    \\frac{\\partial y}{\\partial x_3}\n",
        "    \\end{bmatrix}.\n",
        "   \\end{equation}\n",
        "\n",
        "  3. for $\\bf{x} \\in {\\rm I\\!R^3}, \\bf{y} \\in {\\rm I\\!R^2}$, $f$ is represented by the right graph (3) such that:   \n",
        "  \n",
        "      * outputs $y_1$ and $y_2$ are both computed from inputs $x_1,x_2,x_3$;\n",
        "      * we spot $6$ arrows corresponding to the dependency of $y_1$ and $y_2$ to $x_1,x_2,x_3$;\n",
        "      * the partial derivatives between $y_1, y_2$ and $x_1,x_2,x_3$ are summarized by a matrix called ***Jacobian***\n",
        "      \n",
        "      \\begin{equation}\n",
        "      \\begin{bmatrix}\n",
        "      \\frac{\\partial y}{\\partial x}\n",
        "      \\end{bmatrix} =\n",
        "      \\begin{bmatrix}\n",
        "      \\frac{\\partial y_1}{\\partial x_1} & \\frac{\\partial y_1}{\\partial x_2} & \\frac{\\partial y_1}{\\partial x_3}\\\\\n",
        "      \\frac{\\partial y_2}{\\partial x_1} & \\frac{\\partial y_2}{\\partial x_2} & \\frac{\\partial y_2}{\\partial x_3}\n",
        "      \\end{bmatrix}.\n",
        "      \\end{equation}\n",
        "   "
      ]
    },
    {
      "cell_type": "markdown",
      "metadata": {
        "colab_type": "text",
        "id": "gbu0RoStoOtJ"
      },
      "source": [
        "![](https://drive.google.com/uc?export=view&id=1DGpOEvSqF9Z67_0jmmG933W9-E5x2GeS)"
      ]
    },
    {
      "cell_type": "markdown",
      "metadata": {
        "colab_type": "text",
        "id": "4AFNKPJfo0TN"
      },
      "source": [
        "### Playing with Derivatives, Gradients and Jacobians\n",
        "\n",
        "* By now you are equipped to derive functions mapping between inputs and outputs of ***arbitrary*** sizes.\n",
        "\n",
        "* Push it further and consider the  composite function $z = g(y)$ and $y = f(x)$ where $z \\in {\\rm I\\!R}$:\n",
        "\n",
        "   1. for $x, y \\in {\\rm I\\!R}$, $g$ can be represented by the graph \n",
        "   \n",
        "      ![](https://drive.google.com/uc?export=view&id=1R5YxMMMKou69AHs66XG3iEy2F1cHUT9c)\n",
        "      \n",
        "     * Derivative of $z$ w.r.t $x$ is obtained with the chain rule \n",
        "     \n",
        "     \\begin{equation}\n",
        "     \\frac{dz}{dx} = \\frac{dz}{dy} \\times \\frac{dy}{dx}.\n",
        "     \\end{equation}\n",
        "     \n",
        "   2. for vectorial $x,y$ for example $\\bf{x} \\in {\\rm I\\!R^3}, \\bf{y} \\in {\\rm I\\!R^2}$ the function $g$ would be represented as    \n",
        "   \n",
        "      ![](https://drive.google.com/uc?export=view&id=1b8EJlpwROp4jlx9UZNAEEfK6BP-BWdkS)\n",
        "   \n",
        "    * Partial derivatives of $z$ w.r.t $x_1,x_2,x_3$ are obtained by the generalizations of chain rule\n",
        "    \n",
        "    \\begin{equation}\n",
        "    \\frac{\\partial z}{\\partial x_1} = \\left( \\frac{\\partial z}{\\partial y_1} \\times \\frac{\\partial y_1}{\\partial x_1} \\right) + \\left( \\frac{\\partial z}{\\partial y_2} \\times \\frac{\\partial y_2}{\\partial x_1} \\right) = \\sum_{j = 1}^2  \\frac{\\partial z}{\\partial y_j} \\times \\frac{\\partial y_j}{\\partial x_1}\n",
        "    \\end{equation}\n",
        "    \n",
        "     * In other words the above chain rule first computes  partial derivatives of $y_1, y_2$ w.r.t $x_1$ multiplied by the partial derivative of $z$ w.r.t $y_j$ and sum everything. Same principle applies for other partial derivatives of $z$ w.r.t $x_2,x_3$\n",
        "     \n",
        "     \\begin{equation}\n",
        "     \\frac{\\partial z}{\\partial x_2} = \\sum_{j = 1}^2  \\frac{\\partial z}{\\partial y_j} \\times \\frac{\\partial y_j}{\\partial x_2},\\\\\n",
        "     \\frac{\\partial z}{\\partial x_3} = \\sum_{j = 1}^2  \\frac{\\partial z}{\\partial y_j} \\times \\frac{\\partial y_j}{\\partial x_3}.\\\\\n",
        "     \\end{equation}\n",
        "     \n",
        "    * Partial derivatives above define the gradient of $z$ w.r.t $\\bf{x}$ which magically happens to be\n",
        "    \n",
        "    \\begin{equation}\n",
        "    \\nabla_{\\bf{x}} z =\n",
        "      \\begin{bmatrix}\n",
        "      \\frac{\\partial y}{\\partial x}\n",
        "      \\end{bmatrix}^T \\nabla_{\\bf{y}} z.\n",
        "    \\end{equation}\n",
        "    \n",
        "     * If you do not believe me here is the detailed version of the formulae \n",
        "     \n",
        "     \\begin{equation}\n",
        "     \\nabla_{\\bf{x}} z = \n",
        "     \\begin{bmatrix}\n",
        "      \\frac{\\partial y_1}{\\partial x_1} & \\frac{\\partial y_2}{\\partial x_1}\\\\\n",
        "      \\frac{\\partial y_1}{\\partial x_2} & \\frac{\\partial y_2}{\\partial x_2}\\\\\n",
        "      \\frac{\\partial y_1}{\\partial x_3} & \\frac{\\partial y_2}{\\partial x_3}\n",
        "      \\end{bmatrix}\n",
        "         \\begin{bmatrix}\n",
        "    \\frac{\\partial z}{\\partial y_1}\\\\\n",
        "    \\frac{\\partial z}{\\partial y_2}\n",
        "    \\end{bmatrix}.\n",
        "     \\end{equation}\n",
        "   \n",
        "    * The nightmare is now over : congratulations you know how to tame gradients on beasty composite functions.\n",
        "    \n",
        "    * Is it really a nightmare ? all we are doing is multiplying gradient by transposed jacobian.\n",
        "    \n",
        "    * This mecanism is the heart of the ***Backpropagation Algorithm*** used to train Deep Neural Networks.\n"
      ]
    },
    {
      "cell_type": "markdown",
      "metadata": {
        "colab_type": "text",
        "id": "Sq1Exa6TLFui"
      },
      "source": [
        "## Gradient of Negative Log Likelihood"
      ]
    },
    {
      "cell_type": "markdown",
      "metadata": {
        "colab_type": "text",
        "id": "HQJgdM8kb9JA"
      },
      "source": [
        "### Complexity of the Computation\n",
        "\n",
        "* Back to reality : we want to minimize $J$ through Gradient Descent Algorithm.\n",
        "\n",
        "* As the name suggests Gradient Descent requires the computation of $\\nabla_{\\theta} J$ with $\\theta = [\\bf{W}, \\bf{b}]$.\n",
        "\n",
        "*  Quick reminder:\n",
        "\n",
        "\\begin{equation}\n",
        "J(\\bf{W}, \\bf{b}) = \\frac{1}{n}\\sum_{i = 1}^n \\sum_{j = 1}^k -p_{i,j} \\log(\\hat{p}_{i,j}) = \\frac{-1}{n}\\sum_{i = 1}^n \\sum_{j = 1}^k p_{i,j} \\log \\left( \\frac{e^{\\bf{W}_{j,:}\\bf{X}_{:,i}^T + b_j } }{\\sum_{l = 1}^k e^{\\bf{W}_{l,:}\\bf{X}_{:,i}^T + b_l} }  \\right).\n",
        "\\end{equation}\n",
        "\n",
        "* This frightening equation shows that observations $\\bf{X}_{:,i}$, probabilities $p_{i,j}$ and parameters $\\bf{W}_{i,j}, b_i$ are all  intertwined.\n",
        "\n",
        "* This jungle of expressions makes derivation of $J$ w.r.t $\\bf{W}, \\bf{b}$  laborious.\n",
        "\n",
        "* To see clearer consider the following basic example:\n",
        "\n",
        "  * Dataset $\\bf{X}$ with $2$ observations and $2$ variables;\n",
        "  * Each data point belongs to a distinct class and the number of classes is $2$;\n",
        "  * The loss function $J$ can be visualized by the computational graph below "
      ]
    },
    {
      "cell_type": "markdown",
      "metadata": {
        "colab_type": "text",
        "id": "ARkomimvtgFZ"
      },
      "source": [
        " ### Loss Function as Computational Graph\n",
        " \n",
        " * The computational graph of $J$ is organized into ***layers*** where:\n",
        "    * Bottom layer contains parameters of the model (weights and bias);\n",
        "    * Note that parameters are ***flattened*** in the sens we no longer care about the ***shapes*** of $\\bf{W}$ and $\\bf{b}$;\n",
        "    * Next layer computes scores for every observation and every class; \n",
        "    * Note that arrows between layers are present only when an explicit relationship exists between the variables;\n",
        "    * The $3^{rd}$ layer is made up by estimated probabilities $\\hat{p}_{i,c}$ that depend on the previous layer but also on real probabilities $p_{i,c}$ with  no dependency;\n",
        "    * Last layer is the loss function which depends on $\\hat{p}_{i,c}$ and $p_{i,c}$;\n",
        "    \n"
      ]
    },
    {
      "cell_type": "markdown",
      "metadata": {
        "colab_type": "text",
        "id": "MD0_kahpZlUg"
      },
      "source": [
        "![](https://drive.google.com/uc?export=view&id=1hfk-ntkWJouCv-tD57-Tf5tLotibx9CF)"
      ]
    },
    {
      "cell_type": "markdown",
      "metadata": {
        "colab_type": "text",
        "id": "Sc73YOgj1MD1"
      },
      "source": [
        "### Mecanism of Computation\n",
        "\n",
        "* The gradient of $J$ w.r.t parameters $\\theta = [w_{11},w_{12},w_{21},w_{22},b_1,b_2]$ is obtained by applying the multivariable chaine rule throughout the different layers from up to down. The process is executed in the following steps:\n",
        "\n",
        "  * Calculate $\\nabla_{\\hat{p}} J$, Gradient of $J$ w.r.t to estimated probabilities $\\hat{p} = [\\hat{p}_{1,1},\\hat{p}_{1,2},\\hat{p}_{2,1},\\hat{p}_{2,2}]$;\n",
        "  \n",
        "  * Calculate $[\\partial \\hat{p}/\\partial s]$, Jacobian between  layers of estimated probabilities $\\hat{p}$ and estimated scores $s = [s_{1,1},s_{1,2},s_{2,1},s_{2,2}]$;\n",
        "  * Calculate $\\nabla_{s} J$,  Gradient of $J$ w.r.t to scores $s$ with the multivariable chain rule\n",
        "  \\begin{equation}\n",
        "  \\nabla_{s} J = \n",
        "  \\begin{bmatrix}\n",
        "  \\frac{\\partial \\hat{p}}{\\partial s}\n",
        "  \\end{bmatrix}^T\n",
        "  \\nabla_{\\hat{p}} J.\n",
        "  \\end{equation}\n",
        "  * Calculate  $[\\partial \\hat{s}/\\partial \\theta]$ the Jacobian between the layers of scores $s$ and parameters $\\theta$;\n",
        "  \n",
        "  * Calculate $\\nabla_{\\theta} J$ with the multivariable chaine rule\n",
        "  \\begin{equation}\n",
        "  \\nabla_{\\theta} J = \n",
        "  \\begin{bmatrix}\n",
        "  \\frac{\\partial s}{\\partial \\theta}\n",
        "  \\end{bmatrix}^T\n",
        "  \\nabla_{s} J.\n",
        "  \\end{equation}  \n",
        "  "
      ]
    },
    {
      "cell_type": "markdown",
      "metadata": {
        "colab_type": "text",
        "id": "v_0vnvitSiOC"
      },
      "source": [
        "### Expression of Jacobians and Gradients  \n",
        "  \n",
        "  * We arrive at the end of the process (aka nightmare).\n",
        "  \n",
        "  * To make implementation easy we need to express Gradient and Jacobians as compact as possible.\n",
        "  \n",
        "  * The computation objects we will use are:\n",
        "  \n",
        "    * $\\bf{X}$: matrix of $n$ examples with $d$ variables.\n",
        "    * $\\bf{\\Psi} = [\\bf{X} \\vert 1] \\in  {\\rm I\\!R^{n \\times (d+1)}}$: concatenation of $\\bf{X}$ with column vector of $1$s.  \n",
        "    * $C$: number of classes.\n",
        "    * $\\bf{P} \\in {\\rm I\\!R^{n \\times C}}$: matrix of $n$ examples and their belonging probabilities to $C$ classes. \n",
        "    * $\\bf{W} \\in {\\rm I\\!R^{C \\times d}}, \\bf{b} \\in {\\rm I\\!R^{C}}$: respectively weight matrix and bias vector.\n",
        "    * $\\bf{\\Theta} = [\\bf{W}\\vert \\bf{b}]$: matrix of all parameters.\n",
        "    * $\\Theta_{idx} =  \\{[1,1],\\ldots,[1,d+1],[2,1],\\ldots,[C,d+1]\\}$: set of indices associated to each element of $\\bf{\\Theta}$ (from top to down and left to right). This set of indices is useful to flatten $\\bf{\\Theta}$ in order to manipulate weights and bias as one vector. The first and last elements of $\\bf{\\Theta}$ are accessed as $\\bf{\\Theta}_{\\Theta_{idx}[1]}$ and $\\bf{\\Theta}_{\\Theta_{idx}[C \\times (d+1)]}$.\n",
        "    * $\\bf{S} = \\bf{\\Psi}  \\bf{\\Theta}^T \\in {\\rm I\\!R^{n \\times C}}$: matrix of $C$ scores for the $n$ examples in $\\bf{X}$  \n",
        "    \n",
        "  \\begin{equation}\n",
        "  \\bf{S} = \n",
        "  \\begin{bmatrix}\n",
        "  \\sum_{f = 1}^{d+1} \\Psi_{1f} \\Theta_{1f} & \\cdots & \\sum_{f = 1}^{d+1} \\Psi_{1f} \\Theta_{Cf}\\\\\n",
        "  \\vdots & \\ddots & \\vdots\\\\\n",
        "  \\sum_{f = 1}^{d+1} \\Psi_{nf} \\Theta_{1f} & \\cdots & \\sum_{f = 1}^{d+1} \\Psi_{nf} \\Theta_{Cf}\n",
        "  \\end{bmatrix}.\n",
        "  \\end{equation}\n",
        "  \n",
        "     * $S_{idx} = \\{[1,1], [1,2],\\ldots,[1,C],[2,1],\\ldots,[2,C],\\ldots, [n,C]\\}$: set of indices in $\\bf{S}$. \n",
        "     \n",
        "    * $\\bf{\\hat{P}} = softmax(\\bf{S}) \\in  {\\rm I\\!R^{n \\times d}}$: matrix of $n$ examples and their estimated belonging probabilities to the $C$ classes.\n",
        "    * The flattening of $\\bf{\\hat{P}}$ and $\\bf{P}$ is handled with the set of indices $\\hat{P}_{idx}$ and $P_{idx}$ both equal to $S_{idx}$ as they all refer to matrices of dimensionality $n \\times C$.   \n",
        "    \n",
        "  * The matrices $\\bf{\\Theta}, \\bf{S}, \\bf{\\hat{P}}, \\bf{P}$ and $J$ are respectively flattened and organized bottom-up  "
      ]
    },
    {
      "cell_type": "markdown",
      "metadata": {
        "colab_type": "text",
        "id": "IIkshF7Q78U7"
      },
      "source": [
        "![](https://drive.google.com/uc?export=view&id=1Noeu0NV_iQ6lcRX7wx1nWYLjW6j2cC-a)"
      ]
    },
    {
      "cell_type": "markdown",
      "metadata": {
        "colab_type": "text",
        "id": "iDlBT_g4-Dy_"
      },
      "source": [
        "* The derivations are carried out from top to down.\n",
        "\n",
        "* First, we compute the gradient of $J$ w.r.t to $\\bf{\\hat{P}}$\n",
        "\n",
        "\\begin{equation}\n",
        "\\nabla_{\\hat{p}} J = \n",
        "\\begin{bmatrix}\n",
        "\\frac{P_{P_{idx}[1]}}{\\hat{P}_{P_{idx}[1]}}\\\\\n",
        "\\vdots\\\\\n",
        "\\frac{P_{P_{idx}[n \\times C]}}{\\hat{P}_{P_{idx}[n \\times C]}}\n",
        "\\end{bmatrix}.\n",
        "\\end{equation}\n",
        "\n",
        "* Next, we go for the jacobian between the elements of $\\bf{\\hat{P}}$ and $\\bf{S}$\n",
        "  * As a start, consider softmax function on one vector of scores $[s_1,\\ldots,s_C]$ \n",
        "\\begin{equation}\n",
        "\\hat{p}_i = \\frac{e^{s_i}}{\\sum_{j = 1}^{C} e^{s_j}}. \n",
        "\\end{equation}\n",
        "\n",
        "  * Partial derivative of $p_i$ w.r.t to $s_j$ is\n",
        "  \\begin{equation}\n",
        "  \\frac{\\partial \\hat{p}_i}{\\partial s_j} =        1_{\\{i = j\\}} \\hat{p}_i - \\hat{p}_i \\hat{p}_j\n",
        "  \\end{equation}\n",
        "  \n",
        "  * where $1_{\\{i = j\\}}$ is the ***indicator function***  equals to $1$ when the condition $i = j$ is satisfied. In other words, when the score $s_j$ is in the nominator of $\\hat{p}_i$. If $s_j$  is in the denominator of $\\hat{p}_i$ we get $i \\neq j$ and the indicator is equal to $0$. \n",
        "  \n",
        "  * Let $i = [i_1,i_2]\\in \\hat{P}_{idx}$ and  $j = [j_1, j_2]\\in \\hat{S}_{idx}$ be two coordinate of indices respectively referring to entries of $\\bf{\\hat{P}}$ and $\\bf{S}$. The Jacobian $[\\frac{\\partial \\hat{p}}{\\partial s}]$ is the matrix of partial derivatives of any $\\hat{p}_{i_1, i_2}$ w.r.t to any $s_{j_1,j_2}$. The generic expression can be obtained from the vectorial case with an additional indicator function. \n",
        "  \n",
        "  \\begin{equation}\n",
        " \\frac{\\partial \\hat{p}_i}{\\partial s_j} = \n",
        "  1_{\\{i_1 = j_1\\}} \\left[  \\left(1_{\\{i_2 = j_2\\}} \\hat{p}_{i}   \\right) - \\left( \\hat{p}_i \\hat{p}_j \\right)  \\right].\n",
        "  \\end{equation}\n",
        "  \n",
        "     * Keep in mind that $i$ and $j$ are ***coordinates of indices*** and  thus $\\hat{p}_i = \\hat{p}_{i_1,i_2}$. The  indicator function $1_{\\{i_1 = j_1\\}} = 0$ when no computational link exist between $s_j$ and $p_i$. For example it is quite obvious that partial derivative $\\frac{\\partial \\hat{p}_{1,1}}{\\partial s_{2,1}} = 0$ as the score $s_{2,1}$ appears nowhere in the expression of $\\hat{p}_{1,2}$.\n",
        "         \n",
        "     * To populate the Jacobian $[\\frac{\\partial\\hat{p}}{\\partial s}]$ follow the following process: iterate over the values of $i \\in \\hat{P}_{idx}$. For each value of $i$ iterate over all the values of $j \\in \\hat{S}_{idx}$ and compute $\\frac{\\partial \\hat{p}_i}{\\partial s_j}$.\n",
        "     \n",
        "* Time to chain rule, Gradient of $J$ w.r.t to $s$ is\n",
        "\n",
        "\\begin{equation}\n",
        "\\nabla_{s} J = \n",
        "\\begin{bmatrix}\n",
        "  \\frac{\\partial \\hat{p}}{\\partial s} \n",
        "  \\end{bmatrix}^T \\nabla_{\\hat{p}} J.\n",
        "\\end{equation}\n",
        "\n",
        "* Last floor ! get  the Jacobian between  elements of $\\bf{S}$ and $\\bf{\\Theta}$:\n",
        " * Let $i \\in S_{idx}$ and $j \\in \\theta_{idx}$ be two coordinates of indices, the partial derivative of $s_i$ w.r.t $\\theta_j$ is\n",
        " \n",
        " \\begin{equation}\n",
        " \\frac{\\partial s_i}{\\partial \\theta_j} = 1_{ \\{  \\{i_2 = j_1\\}  or  \\{j_1 = d+1\\}  \\}} \\Psi_{i_1,j_1}, \n",
        " \\end{equation}\n",
        " \n",
        " * the indicator function  $1_{ \\{  \\{i_2 = j_1\\}  or  \\{j_1 = d+1\\}  \\}}$ contains $2$ conditions linked with a logical ***or*** which means that the function equals to one if ***at least*** one condition holds. The result should be easy to get if you refer to the explicit expression of $\\bf{S}$ above.\n",
        " \n",
        "* Finish him chain rule ! Gradient of $J$ w.r.t to $\\theta$ is\n",
        "\n",
        "\\begin{equation}\n",
        "\\nabla_{\\theta} J = \n",
        "\\begin{bmatrix}\n",
        "\\frac{\\partial s}{\\partial \\theta}\n",
        "\\end{bmatrix}^T\n",
        "\\nabla_{s} J.\n",
        "\\end{equation}\n",
        "\n",
        "* You win.\n",
        "\n",
        "  \n",
        "  "
      ]
    },
    {
      "cell_type": "markdown",
      "metadata": {
        "colab_type": "text",
        "id": "xQ2Wr2-ry1MD"
      },
      "source": [
        "## Implementation in Python "
      ]
    },
    {
      "cell_type": "markdown",
      "metadata": {
        "colab_type": "text",
        "id": "yS8myZbXzfyV"
      },
      "source": [
        "### Generation of Dataset\n",
        "* Simulate $\\bf{X}$ with $200$ examples, $2$ variables and $2$ categories;\n",
        "* $\\bf{y}$ contains $100$ labels of each category;\n",
        "* $\\bf{W}, \\bf{b}$ are initialized at $\\bf{0}$\n",
        "* ***plot_softmax_model(X,y,W,b,lines)***: python function to plot the data in different colors with the separating lines if ***lines = True***."
      ]
    },
    {
      "cell_type": "code",
      "metadata": {
        "colab_type": "code",
        "id": "WByKeh-dAVul",
        "outputId": "3902c383-3c74-44ab-f788-0f1c77fcd27b",
        "colab": {
          "base_uri": "https://localhost:8080/",
          "height": 592
        }
      },
      "source": [
        "import numpy as np\n",
        "import matplotlib.pyplot as plt\n",
        "\n",
        "n = 100\n",
        "cat_1 = np.random.multivariate_normal(np.array([70,60]), \n",
        "                                         np.array([[5,0],\n",
        "                                                   [0,5]]),\n",
        "                                                   n)\n",
        "cat_2 = np.random.multivariate_normal(np.array([90, 70]),\n",
        "                                       np.array([[7,0],\n",
        "                                                 [0,7]]),\n",
        "                                                 n)\n",
        "X = np.vstack([cat_1, cat_2])\n",
        "y = np.hstack([np.zeros(n, dtype = int), np.ones(n, dtype = int)])\n",
        "P = np.zeros(X.shape)\n",
        "P[np.arange(0,len(X)),y] = 1\n",
        "W,b = np.zeros([P.shape[1],X.shape[1]]), np.zeros([P.shape[1],1])\n",
        "\n",
        "\n",
        "def plot_softmax_model(X,y,W,b,lines):\n",
        "\n",
        "    class_colors = ['blue', 'red', 'green', 'purple', 'pink']\n",
        "          \n",
        "    if lines:\n",
        "        X_std = (X - np.mean(X, axis = 0))/np.std(X, axis = 0)\n",
        "    else:\n",
        "        X_std = X\n",
        "\n",
        "    line_X_stds = np.arange(min(X_std[:,0])-2, max(X_std[:,0]) + 2) \n",
        "   \n",
        "    plt.figure(figsize = (12,10))\n",
        "    plt.xlim(min(X_std[:,0])-2, max(X_std[:,0]) + 2)\n",
        "    plt.ylim(min(X_std[:,1])-2, max(X_std[:,1]) + 2)\n",
        "      \n",
        "    for i in range(W.shape[0]):       \n",
        "        plt.scatter(X_std[np.where(y == i),0], X_std[np.where(y == i),1], marker = 'o', color = class_colors[i])\n",
        "\n",
        "    if lines:   \n",
        "        for i in range(W.shape[0]):\n",
        "            plt.plot(line_X_stds, -1*(W[i,0]/W[i,1])*line_X_stds - (b[i]/W[i,1]), color = class_colors[i])\n",
        "        \n",
        "    #plt.title('Softmax with %d Classes. Error Rate = %d%s'% (W.shape[0], (1-error_classification(X,y,W,b))*100, '%'))\n",
        "    plt.show()\n",
        "\n",
        "\n",
        "plot_softmax_model(X,y,W,b,False)"
      ],
      "execution_count": 0,
      "outputs": [
        {
          "output_type": "display_data",
          "data": {
            "image/png": "[encoded data removed]",
            "text/plain": [
              "<Figure size 864x720 with 1 Axes>"
            ]
          },
          "metadata": {
            "tags": []
          }
        }
      ]
    },
    {
      "cell_type": "markdown",
      "metadata": {
        "colab_type": "text",
        "id": "eH1x8sHf32yD"
      },
      "source": [
        "### Softmax Model\n",
        "\n",
        "* The softmax function is implemented according to the following expression \n",
        "\\begin{equation}\n",
        "\\hat{p}_i = \\frac{e^{s_i - max(s)}}{\\sum_{j = 1}^C e^{e_j - max(s)}} = \\frac{e^{s_i}}{\\sum_{j = 1}^C e^{e_j }}. \n",
        "\\end{equation}\n",
        "\n",
        "*  Indeed $s_j \\in{\\rm I\\!R}$ and thus have no limits. The value of $e^{s_j}$ may easily become so large that it will  no longer be representable in the computer resulting in an ***overfloating*** error. To prevent this, we substract the biggest score from every $s_j$. Simple math will show that two  expressions are exactly the same.   "
      ]
    },
    {
      "cell_type": "code",
      "metadata": {
        "colab_type": "code",
        "id": "DDA0wVGW01dl",
        "colab": {}
      },
      "source": [
        "def softmax(X,W,b):\n",
        "    S = np.transpose(W.dot(X.transpose()) + b)\n",
        "    S_max = np.max(S, axis = 1)\n",
        "    S_minus_S_max = S - S_max.reshape([len(S_max), 1])\n",
        "    P_hat = np.exp(S_minus_S_max)/np.sum(np.exp(S_minus_S_max), axis = 1).reshape([len(X),1])\n",
        "    return P_hat"
      ],
      "execution_count": 0,
      "outputs": []
    },
    {
      "cell_type": "markdown",
      "metadata": {
        "colab_type": "text",
        "id": "miZJDqkt9LKZ"
      },
      "source": [
        "### Error Functions\n",
        "\n",
        "* we implement the negative log-likelihood function but also the error of classification which is simply the rate of rightly classified examples in $\\bf{X}$."
      ]
    },
    {
      "cell_type": "code",
      "metadata": {
        "colab_type": "code",
        "id": "SjMy2hU58bHC",
        "colab": {}
      },
      "source": [
        "def neg_log_likelihood(X,P,W,b):\n",
        "    return (-1/(len(X))) * np.sum(np.sum((P * np.log(softmax(X,W,b))), axis = 1))\n",
        "\n",
        "def error_classification(X,y,W,b): \n",
        "    return np.sum(y == np.argmax(softmax(X,W,b), axis = 1))/len(y)\n"
      ],
      "execution_count": 0,
      "outputs": []
    },
    {
      "cell_type": "markdown",
      "metadata": {
        "colab_type": "text",
        "id": "GK-Ow91M9jNG"
      },
      "source": [
        "### Gradient of $J$ w.r.t parameters\n",
        "\n",
        " * we implement the expressions of the gradients and jacobians according to the formalism explicited above."
      ]
    },
    {
      "cell_type": "code",
      "metadata": {
        "colab_type": "code",
        "id": "_KlzcLXp9ccH",
        "colab": {}
      },
      "source": [
        "def gradient_neg_log_likelihood(X,y,P,W,b):\n",
        "   \n",
        "    X_1 = np.hstack([X, np.ones([len(X),1])])\n",
        "    theta = np.hstack([W,b])\n",
        "    \n",
        "    theta_idx = list(np.ndindex(theta.shape))\n",
        "    P_idx = S_idx = list(np.ndindex((X.shape[0], len(b))))\n",
        "    \n",
        "    jacobian_s = np.array([X_1[i[0], j[1]] * ((i[1] == j[0]) or (j[0] == (X.shape[1]))) \n",
        "                  for (i,j) in [(i,j) for i in S_idx for j in theta_idx]]).reshape(X.shape[0]*len(b), np.product(theta.shape))  \n",
        "    \n",
        "    P_hat = softmax(X,W,b) \n",
        "        \n",
        "    jacobian_idx = [(i,j) for i in P_idx for j in S_idx]\n",
        "    jacobian_p_hat =  np.array([ (i[0] == j[0]) * ( ( (i[1] == j[1]) * P_hat[i]) - ( P_hat[i] * P_hat[j])) \n",
        "                        for (i,j) in jacobian_idx]).reshape([np.prod(P_hat.shape), np.prod(P_hat.shape)])\n",
        "    \n",
        "    gradient_J_p_hat = (-1/len(X)) *( np.array([(P[i]/P_hat[i]) for i in P_idx])).reshape([np.prod(P_hat.shape),1])\n",
        "    \n",
        "    gradient_J_theta = jacobian_s.transpose().dot(jacobian_p_hat.transpose().dot(gradient_J_p_hat))\n",
        "    \n",
        "    partial_theta = gradient_J_theta.reshape(theta.shape)\n",
        "    partial_W, partial_b = partial_theta[:,np.arange(0,W.shape[1])], partial_theta[:,(W.shape[1])].reshape(b.shape)\n",
        "    return partial_W, partial_b"
      ],
      "execution_count": 0,
      "outputs": []
    },
    {
      "cell_type": "markdown",
      "metadata": {
        "colab_type": "text",
        "id": "0Qlhte5F-hc1"
      },
      "source": [
        "### Gradient Descent Algorithm\n",
        "\n",
        "* Gradient Descent algorithm: \n",
        "  * delta: learning step;\n",
        "  * threshold: the pourcentage of ***classification error*** we want to attain. If this pourcentage cannot be attained the algorithm will stop after $10^6$ iterations;\n",
        "  * random: boolean if True weights are initialized randomly otherwise they are initialized at zero."
      ]
    },
    {
      "cell_type": "code",
      "metadata": {
        "colab_type": "code",
        "id": "zdByoQ0i9oiO",
        "colab": {}
      },
      "source": [
        "def gradient_descent_softmax(X,y,P,delta,threshold, random):\n",
        "   \n",
        "    if random:\n",
        "        W,b = np.random.normal(0,1, size = [P.shape[1],X.shape[1]]), np.zeros([P.shape[1],1]) #np.random.normal(0,1,[P.shape[1],1])#\n",
        "    else:\n",
        "        W,b = np.zeros([P.shape[1],X.shape[1]]), np.zeros([P.shape[1],1])\n",
        "    \n",
        "    i = 0\n",
        "    while (error_classification(X,y,W,b) < threshold) and (i < 1e6):\n",
        "        partial_W, partial_b = gradient_neg_log_likelihood(X,y,P,W,b)\n",
        "        W, b = W - (delta*partial_W), b - (delta*partial_b)\n",
        "        print('Iteration %i CrossEntropy = %f and Precision = %f%s' % (i, neg_log_likelihood(X,P,W,b), error_classification(X,y,W,b)*100,'%'))\n",
        "        i = i + 1\n",
        "\n",
        "    print('While Loop Left at Iteration %d with CrossEntropy = %f and Precision = %f'% (i, neg_log_likelihood(X,P,W,b), error_classification(X,y,W,b)*100))\n",
        "    return W,b"
      ],
      "execution_count": 0,
      "outputs": []
    },
    {
      "cell_type": "markdown",
      "metadata": {
        "colab_type": "text",
        "id": "UGV0JATEEMP6"
      },
      "source": [
        "### Execution of Everything"
      ]
    },
    {
      "cell_type": "code",
      "metadata": {
        "colab_type": "code",
        "id": "oHtJQO_sGgQp",
        "outputId": "5e75703c-2a52-4da7-e09f-8bff0c9cb5bb",
        "colab": {
          "base_uri": "https://localhost:8080/",
          "height": 609
        }
      },
      "source": [
        "X = (X - np.mean(X, axis = 0))/np.std(X, axis = 0)\n",
        "W_hat,b_hat = gradient_descent_softmax(X,y,P,0.1, 0.95, True)\n",
        "plot_softmax_model(X,y,W_hat,b_hat,True)"
      ],
      "execution_count": 0,
      "outputs": [
        {
          "output_type": "stream",
          "text": [
            "While Loop Left at Iteration 0 with CrossEntropy = 0.228612 and Precision = 100.000000\n"
          ],
          "name": "stdout"
        },
        {
          "output_type": "display_data",
          "data": {
            "image/png": "[encoded data removed]",
            "text/plain": [
              "<Figure size 864x720 with 1 Axes>"
            ]
          },
          "metadata": {
            "tags": []
          }
        }
      ]
    },
    {
      "cell_type": "code",
      "metadata": {
        "colab_type": "code",
        "id": "1N3vCWY0GkRb",
        "colab": {}
      },
      "source": [
        ""
      ],
      "execution_count": 0,
      "outputs": []
    }
  ]
}