{
  "nbformat": 4,
  "nbformat_minor": 0,
  "metadata": {
    "colab": {
      "name": "LOWESS_Regression.ipynb",
      "version": "0.3.2",
      "provenance": [],
      "collapsed_sections": [],
      "include_colab_link": true
    },
    "kernelspec": {
      "name": "python3",
      "display_name": "Python 3"
    }
  },
  "cells": [
    {
      "cell_type": "markdown",
      "metadata": {
        "id": "view-in-github",
        "colab_type": "text"
      },
      "source": [
        "<a href=\"https://colab.research.google.com/github/rkhiar/IA/blob/master/LOWESS_Regression.ipynb\" target=\"_parent\"><img src=\"https://colab.research.google.com/assets/colab-badge.svg\" alt=\"Open In Colab\"/></a>"
      ]
    },
    {
      "metadata": {
        "id": "O1aFuJES8zkr",
        "colab_type": "text"
      },
      "cell_type": "markdown",
      "source": [
        "# LOcally weighted Scatterplot Smoother :\n",
        "\n",
        "\\\\\n",
        "\n",
        "LOWESS is a non-parametric regression (Function shape is not defined uphill) methods that combine multiple regression models in a k-nearest-neighbor-based.  It is used when classical procedures do not perform well.  \n",
        "\n",
        "It consists in fitting simple models to localized subsets of the data to build up a function that describes the variation in the data, point by point.\n",
        "\n",
        "Local regression is a memory-based procedure. Like nearest-neighbors, we need all the training data each time we wish to compute a prediction.\n",
        "\n",
        "\n",
        "Two elements do matter for lowess regression :\n",
        "1.  Define the regression model to apply on the localized subsets (linear regression, polynomial)\n",
        "2.  Define the number of points which are considered as being 'Local' to a given 'Focal' point x. This number can be determined using weights obtained by differents methods  :  \n",
        "    -   a brandwidth parmaeters $\\tau$ in case of a bell curve kernell (Explication to follow)\n",
        "    -   a determined span s\n",
        "    -   a defined number\n",
        "\n",
        "We considere more or less a local point by assigning a weight. \\\\\n",
        "\n",
        "!!!!!!!!!!!!!!!!!!!!!!!!!!!!!!!!!!!!!!!!!!!!!!!!!!!!!!!!!!!!!!!!!!!!!!!!!!!!!!!!!!!!!!!!!!!!!!!!!!!!!!!!!!!!!!!!!!!!!!!!!!!!!!!!!!!!!!!!!!!!!!!!!!!!!!!!!!!!!!!!!!!!!!!!!! \\\\\n",
        "Note that thoses weights are differents from the vector $\\bf{W}$ $= [b, w_1]$ used  in Linear regression !!!!!! \\\\\n",
        "!!!!!!!!!!!!!!!!!!!!!!!!!!!!!!!!!!!!!!!!!!!!!!!!!!!!!!!!!!!!!!!!!!!!!!!!!!!!!!!!!!!!!!!!!!!!!!!!!!!!!!!!!!!!!!!!!!!!!!!!!!!!!!!!!!!!!!!!!!!!!!!!!!!!!!!!!!!!!!!!!!!!!!!!!! \\\\\n",
        "\n",
        "## In details :\n",
        "\n",
        "Using weighted least squares, we are looking for a linear function that fit only a local set of points delimited by a region. \\\\\n",
        "\n",
        "### Weights\n",
        "\n",
        "As explained uphill , the weights can be obtained in various ways but we will just focus on the brandwidth parameter method. Weights are given by the heights of a kernel function (weighting function) that assign :\n",
        "* more weights to points near the Focal point x\n",
        "* less weight to points further away \\\\\n",
        "\n",
        "\\begin{equation}\n",
        "v^i = exp(-\\frac{(x^i - x)^2}{2\\tau^2})\n",
        "\\end{equation}\n",
        "\n",
        "Where  : \\\\\n",
        "$x^i$ represent the  point we are processing the weight (local point) \\\\\n",
        "$x$ is the Focal point in our algorithm iteration \\\\\n",
        "$\\tau$ represent the bandwidth, the larger it is, the bigger is the weight of further points \\\\\n",
        "$v^i$ is the processed weight for $x^i$ \\\\\n",
        "\n",
        "\n",
        "\n",
        "\n",
        "### applying linear regression model :\n",
        "\n",
        "Ones we get our weights,  we look for a weighted linear regression  model that suits the best the local dataset. \\\\\n",
        "\n",
        "This step is exactly the same that linear regression with this difference that we look for minimizing a weighted least square (Weighted MSE) : \\\\\n",
        "\n",
        "\n",
        "\\begin{equation}\n",
        "J(\\bf{w}) = \\frac{1}{n}\\sum_{i = 1}^{n}{v}^{(i)}({y}^{(i)} - \\hat{y}^{(i)} )^2,\n",
        "\\end{equation}\n",
        "\n",
        "* where $\\hat{y}^{(i)} =  w_1 x^{(i)} + b$ is the output of $x^{(i)}$ \n",
        "* And $v^i$ is the weight associated to $x^i$.\n",
        "\n",
        "\\\\\n",
        "\n",
        "\n",
        "\n",
        "We obtain then a model that fit only the points that are close to the Focal point x. \\\\\n",
        "The Focal point then moves away on the x axis and the procedure repeats for each points.\n",
        "\n",
        "\n",
        "\n"
      ]
    },
    {
      "metadata": {
        "id": "Io6-Wc5Hnp5C",
        "colab_type": "code",
        "colab": {
          "base_uri": "https://localhost:8080/",
          "height": 366
        },
        "outputId": "e6d88738-dcb9-40aa-d911-79110a7f762e"
      },
      "cell_type": "code",
      "source": [
        "import numpy as np\n",
        "import matplotlib.pyplot as plt\n",
        "\n",
        "\n",
        "def kernel_function_plot(X_param, brandwidth):\n",
        "  return np.exp(-(X_param-1)**2/brandwidth)\n",
        "\n",
        "bell_line_x = np.arange(-2,12, 0.1)\n",
        "linReg_line_x = np.arange(0,6, 0.1)\n",
        "\n",
        "X=np.array([1,2,3,4,5,6,7,10,11])\n",
        "y=np.array([1,1.5,1.33,0.8,2,5,1.7,2.8,3.5])\n",
        "\n",
        "\n",
        "################################################################\n",
        "\n",
        "X_focal=np.array([1])\n",
        "y_focal=np.array([1])\n",
        "\n",
        "plt.figure(figsize = (15,5))\n",
        "plt.subplot(1,2,1)\n",
        "\n",
        "\n",
        "plt.xticks(range(12))\n",
        "plt.yticks(range(6))\n",
        "plt.xlabel('Feature')\n",
        "plt.ylabel('Label')\n",
        "plt.title('[ITERATION 1] Local regression on focal point [1,1]')\n",
        "plt.scatter(X,y, marker = 'o', color = 'red', s = 75)\n",
        "plt.scatter(X_focal,y_focal, marker = 'o', color = 'black', s = 75)\n",
        "\n",
        "#plotting bell curve function\n",
        "plt.plot(bell_line_x, kernel_function_plot(bell_line_x,5), color = 'yellow' )\n",
        "\n",
        "#plotting linear function\n",
        "plt.plot(linReg_line_x, 0.08*linReg_line_x + 1, color = 'blue' )\n",
        "\n",
        "#scattering the focal point projection\n",
        "plt.scatter(1,1.1, marker = 'x', color = 'green', s = 75)\n",
        "\n",
        "##############################################################\"\"\n",
        "\n",
        "plt.subplot(1,2,2)\n",
        "\n",
        "bell_line_x = np.arange(-2,12, 0.1)\n",
        "linReg_line_x = np.arange(0,6, 0.1)\n",
        "\n",
        "X_focal=np.array([2])\n",
        "y_focal=np.array([1.5])\n",
        "\n",
        "plt.xticks(range(12))\n",
        "plt.yticks(range(6))\n",
        "plt.xlabel('Feature')\n",
        "plt.ylabel('Label')\n",
        "plt.title('[ITERATION 2] Local regression on focal point [2,1.5]')\n",
        "\n",
        "\n",
        "plt.scatter(X,y, marker = 'o', color = 'red', s = 75)\n",
        "plt.scatter(X_focal,y_focal, marker = 'o', color = 'black', s = 75)\n",
        "\n",
        "\n",
        "\n",
        "#plotting bell curve function\n",
        "plt.plot(bell_line_x, kernel_function_plot(bell_line_x,5), color = 'yellow' )\n",
        "\n",
        "#plotting linear function\n",
        "plt.plot(linReg_line_x, 0.05*linReg_line_x + 1.1, color = 'blue' )\n",
        "\n",
        "#scattering the focal point projection\n",
        "plt.scatter(2,1.2, marker = 'x', color = 'green', s = 75)\n",
        "\n",
        "\n"
      ],
      "execution_count": 48,
      "outputs": [
        {
          "output_type": "execute_result",
          "data": {
            "text/plain": [
              "<matplotlib.collections.PathCollection at 0x7f68c9902128>"
            ]
          },
          "metadata": {
            "tags": []
          },
          "execution_count": 48
        },
        {
          "output_type": "display_data",
          "data": {
            "image/png": "[encoded data removed]",
            "text/plain": [
              "<matplotlib.figure.Figure at 0x7f68c9a26b38>"
            ]
          },
          "metadata": {
            "tags": []
          }
        }
      ]
    },
    {
      "metadata": {
        "id": "_JNHWQ7C8Yc7",
        "colab_type": "text"
      },
      "cell_type": "markdown",
      "source": [
        "* Blue plot is the local linear regression\n",
        "* Yellow one is the weight (kernel) function\n",
        "* Black point represent the focal point"
      ]
    }
  ]
}