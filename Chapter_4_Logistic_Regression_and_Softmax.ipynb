{
  "nbformat": 4,
  "nbformat_minor": 0,
  "metadata": {
    "colab": {
      "name": "Chapter 4 - Logistic Regression and Softmax.ipynb",
      "provenance": [],
      "collapsed_sections": [
        "O7jH80Rz2dyF",
        "SR7Mn4DuKk4m",
        "38ZZxbEZKqy0",
        "eDsknqV62_89",
        "4M6GjGtL8VW-",
        "JrCzemMZUPnz",
        "oLsE854EUkeB",
        "ZlsXXwQdBBdN",
        "Sq1Exa6TLFui",
        "fl6vO4IFwTM3"
      ]
    },
    "language_info": {
      "codemirror_mode": {
        "name": "ipython",
        "version": 3
      },
      "file_extension": ".py",
      "mimetype": "text/x-python",
      "name": "python",
      "nbconvert_exporter": "python",
      "pygments_lexer": "ipython3",
      "version": "3.6.3"
    },
    "kernelspec": {
      "display_name": "Python 3",
      "language": "python",
      "name": "python3"
    },
    "accelerator": "GPU"
  },
  "cells": [
    {
      "cell_type": "markdown",
      "metadata": {
        "colab_type": "text",
        "id": "oh0MSadCxFuF"
      },
      "source": [
        "# Logistic Regression"
      ]
    },
    {
      "cell_type": "markdown",
      "metadata": {
        "id": "O7jH80Rz2dyF",
        "colab_type": "text"
      },
      "source": [
        "## Definition"
      ]
    },
    {
      "cell_type": "markdown",
      "metadata": {
        "id": "SR7Mn4DuKk4m",
        "colab_type": "text"
      },
      "source": [
        "### Introduction"
      ]
    },
    {
      "cell_type": "markdown",
      "metadata": {
        "colab_type": "text",
        "id": "vgHy1qkcXmVT"
      },
      "source": [
        "*  Logistic regression is a model used to relate **categorical** output to one or several **quantitative** inputs;\n",
        "\n",
        "\\\\\n",
        "\n",
        "\n",
        "* For example one can use logistic regression to determine from a given weight and height whether the person is a child or an adult;\n",
        "\n",
        "\\\\\n",
        "\n",
        "* Below is the illustration of two samples of children and adults\n",
        "\n",
        "\\\\\n",
        "\n",
        "\n",
        "![](https://drive.google.com/uc?export=view&id=12gtdjxV3B-_m44yluVAilua0_TFX_YYJ)\n",
        "\n",
        "\n",
        "\n",
        "\\\\\n",
        "\n",
        "* where the green line is the model that separates between the two categories whose expression is \n",
        "\n",
        "\n",
        "\\\\\n",
        "\n",
        "\n",
        "\\begin{equation}\n",
        "\\mbox{height} = - \\mbox{weight} + 180 \\iff  \\mbox{weight} + \\mbox{height}  - 180 = 0.\n",
        "\\end{equation}\n",
        "\n",
        "\n",
        "\\\\\n",
        "\n",
        "* The category is obtained by the following function of $\\mbox{weight}$ and $\\mbox{height}$  \n",
        "\n",
        "\\\\\n",
        "\n",
        "\\begin{equation}\n",
        "f(\\mbox{weight},\\mbox{height}) = \\mbox{weight} + \\mbox{height}  - 180,\n",
        "\\end{equation}\n",
        "\n",
        "\n",
        "\\\\\n",
        "\n",
        "* where :\n",
        "  \n",
        "  * $f(\\mbox{weight},\\mbox{height}) > 0$ means the point defined with the coordinates $(\\mbox{weight},\\mbox{height})$  lies **above** the green line and  belongs to the category of **adults**;\n",
        "  \n",
        "  * $f(\\mbox{weight},\\mbox{height}) < 0$ the point is **below** the green line and the person is classified amongst **children**;\n",
        "  \n",
        "  * $f(\\mbox{weight},\\mbox{height}) = 0$ the person lies **on** the green line and is considered to be between the two categories .\n",
        "  \n",
        "\\\\\n",
        "\n",
        "* The quantity $f(\\mbox{weight},\\mbox{height})$ is refered as the ***score***  and it is **translated** into **probability**  through  ***Logistic Function*** as follows\n",
        "\n",
        "\\\\\n",
        "\n",
        "\\begin{equation}\n",
        "P\\left(y = Adult | \\mbox{weight},\\mbox{height}\\right) = \\frac{1}{1 + e^{-f(\\mbox{weight},\\mbox{height})}}.\n",
        "\\end{equation}\n",
        "  \n",
        "\\\\\n",
        "\n",
        "* Indeed we can see from the plot below of the logistic function that any $z \\in {\\rm I\\!R}$ is turned into an output $\\in [0,1]$.\n",
        "\n",
        "\n",
        "\\\\\n",
        "\n",
        "![](https://drive.google.com/uc?export=view&id=1383aDQg_sGYeYUhk2pFwNNX5TRIzJlwh)\n",
        "\n"
      ]
    },
    {
      "cell_type": "markdown",
      "metadata": {
        "id": "38ZZxbEZKqy0",
        "colab_type": "text"
      },
      "source": [
        "### Sign of $f(\\mbox{weight},\\mbox{height})$ "
      ]
    },
    {
      "cell_type": "markdown",
      "metadata": {
        "id": "myeLNgHLKrI4",
        "colab_type": "text"
      },
      "source": [
        "* To fully understand how the sign of $f(\\mbox{weight},\\mbox{height})$ matches the different categories keep in mind that\n",
        "\n",
        "\\\\\n",
        "\n",
        "* **points** in the figure \n",
        "\n",
        "\\\\\n",
        "\n",
        "![](https://drive.google.com/uc?export=view&id=12gtdjxV3B-_m44yluVAilua0_TFX_YYJ)\n",
        "\n",
        "* are mere **representations** of **vectors** and so the real graphical representation looks like\n",
        "\n",
        "\\\\\n",
        "\n",
        "![](https://drive.google.com/uc?export=view&id=1zK5dFGTpEB2IkkkybWCKuomulVyCSJp5)\n"
      ]
    },
    {
      "cell_type": "markdown",
      "metadata": {
        "id": "I8vXVZQLKrm2",
        "colab_type": "text"
      },
      "source": [
        "* To keep things simple, consider centered data with a separator with intercept equals to zero whose expression is \n",
        "\n",
        "\\\\\n",
        "\n",
        "\\begin{equation}\n",
        "f(\\mbox{weight},\\mbox{height}) = \\mbox{weight} + \\mbox{height},\n",
        "\\end{equation}\n",
        "\n",
        "\\\\\n",
        "\n",
        "* illustrated below\n",
        "\n",
        "\\\\\n",
        "\n",
        "![](https://drive.google.com/uc?export=view&id=1bG8WQKNcAP5Ws_XHQJEbk_xRceeO1zkC)\n",
        "\n",
        "\n",
        "\\\\\n",
        "\n",
        "* $f(\\mbox{weight},\\mbox{height})$ can be expressed as a dot product between $\\bf{w} = [1,1]$ and $\\bf{x} = [\\mbox{weight},\\mbox{height}]^T$ \n",
        "\n",
        "\\\\\n",
        "\n",
        "\\begin{equation}\n",
        "f(\\mbox{weight},\\mbox{height})   = [1, 1] \n",
        "\\begin{bmatrix}\n",
        "\\mbox{weight}\\\\\n",
        "\\mbox{height}\n",
        "\\end{bmatrix} = \n",
        "\\bf{w}\\bf{x}.\n",
        "\\end{equation}\n",
        "\n",
        "\\\\\n",
        "\n",
        "![](https://drive.google.com/uc?export=view&id=1MBJK7RpRo1ZVBIYy1I1OFJVL1pRCBNvl)\n"
      ]
    },
    {
      "cell_type": "markdown",
      "metadata": {
        "id": "q4bxMHJJKRRE",
        "colab_type": "text"
      },
      "source": [
        "* In the figure above, we can visualize the vector $\\bf{w}$ (in orange and which happens to be perpendicular to the seperator):\n",
        "  * red vectors which form angles $\\theta \\in \\left] \\frac{3\\pi}{2},\\frac{\\pi}{2} \\right[$ with $\\bf{w}$ result into positive dot products and so  $f(\\mbox{weight},\\mbox{height}) > 0$;\n",
        "\n",
        "  * vectors lying on the green line form two possible angles $\\theta \\in \\{ \\frac{\\pi}{2},\\frac{3\\pi}{2} \\}$ both leading to null $\\cos(\\theta)$ and so $f(\\mbox{weight},\\mbox{height}) = 0$;  \n",
        "\n",
        "  * blue vectors form angles $\\theta \\in \\left] \\frac{\\pi}{2},\\frac{3\\pi}{2} \\right[$ with $\\bf{w}$ and result into negative dot products and so  $f(\\mbox{weight},\\mbox{height}) < 0$. "
      ]
    },
    {
      "cell_type": "markdown",
      "metadata": {
        "id": "eDsknqV62_89",
        "colab_type": "text"
      },
      "source": [
        "## Formalization"
      ]
    },
    {
      "cell_type": "markdown",
      "metadata": {
        "colab_type": "text",
        "id": "oEc5op5Vsfma"
      },
      "source": [
        "*  Formally speaking  binary logistic regression is the probability that $\\bf{x} = [x_1,\\ldots,x_d]^T$ belongs to class $1$ \n",
        "\n",
        "\\\\\n",
        "\n",
        "\\begin{equation}\n",
        "P(y = 1| \\bf{x}) = \\frac{1}{1 + e^{-(\\bf{w}^T\\bf{x} + b})},\n",
        "\\end{equation}\n",
        "\n",
        "\\\\\n",
        "\n",
        "* where $\\bf{w}^T \\in  {\\rm I\\!R}^d$ is the vector of weights and $b \\in  {\\rm I\\!R}$ is the bias.\n",
        "\n",
        "\\\\\n",
        "\n",
        "\n",
        "* Please note the following\n",
        "\n",
        "  * The model computes for a given observation $\\bf{x}$  the belonging probability to one class **only**;\n",
        "  \n",
        "  * The belonging probability to the other class is deduced by the complementary rule of probability \n",
        "  \n",
        "\\\\\n",
        "  \n",
        "  \\begin{equation}\n",
        "  P(y = 0 | \\bf{x}) = 1 -P(y = 1| \\bf{x}) .\n",
        "  \\end{equation}\n",
        "  "
      ]
    },
    {
      "cell_type": "markdown",
      "metadata": {
        "colab_type": "text",
        "id": "7B89fmzzWGeg"
      },
      "source": [
        "# Softmax Regression\n",
        "\n",
        "\n",
        "\n"
      ]
    },
    {
      "cell_type": "markdown",
      "metadata": {
        "id": "4M6GjGtL8VW-",
        "colab_type": "text"
      },
      "source": [
        "## Definition"
      ]
    },
    {
      "cell_type": "markdown",
      "metadata": {
        "colab_type": "text",
        "id": "iEpN6Lx_Bi3v"
      },
      "source": [
        "\n",
        "\n",
        "* Softmax regression is the extension  of logistic regression over $C$ classes.\n",
        "\n",
        "\\\\\n",
        "\n",
        "![](https://drive.google.com/uc?export=view&id=1zs42I6MSrdWTO-dcuGGU4ijy_qi7II2g)\n",
        "\n",
        "\\\\\n",
        "\n",
        "* To deal with $C$ classes problem we define $C$ binary regressions where each category discriminates its specific class over all the others.\n",
        "\n",
        "\\\\\n",
        "\n",
        "![](https://drive.google.com/uc?export=view&id=1GiF3jgiRmllA0NYO0_dIvgttKBuIc07n)\n",
        "\n",
        "\n",
        "\n"
      ]
    },
    {
      "cell_type": "markdown",
      "metadata": {
        "colab_type": "text",
        "id": "aIBTT4L9BveF"
      },
      "source": [
        "*  So for a given data point $\\bf{x} \\in {\\rm I\\!R^d}$ softmax regression  calculates the belonging probability to every class, the output is a vector of probabilities \n",
        "  \n",
        "  \n",
        "\\\\\n",
        "  \n",
        "  \\begin{equation}\n",
        "  \\begin{bmatrix}\n",
        "  P(y = 1 | \\bf{x})\\\\\n",
        "  \\vdots\\\\\n",
        "  P(y = C | \\bf{x}),\n",
        "  \\end{bmatrix}\n",
        "  \\end{equation}\n",
        "\n",
        "\\\\\n",
        "\n",
        "* such as  $\\sum_{k = 1}^C  P(y = k | \\bf{x}) = 1$.\n",
        "\n",
        "\n"
      ]
    },
    {
      "cell_type": "markdown",
      "metadata": {
        "colab_type": "text",
        "id": "Z4vktFWGsKUm"
      },
      "source": [
        "* The vector of probabilities above is obtained through the vector of scores $\\bf{s}$ \n",
        "\n",
        "\\\\\n",
        "\n",
        "\\begin{equation}\n",
        "\\bf{s} = \n",
        "\\begin{bmatrix}\n",
        "s_1\\\\\n",
        "\\vdots\\\\\n",
        "s_C\n",
        "\\end{bmatrix}\n",
        "= \\bf{W} \\bf{x} + b = \n",
        "\\begin{bmatrix}\n",
        "w_{11} & \\ldots & w_{1d}\\\\\n",
        "\\vdots & \\ddots & \\vdots\\\\\n",
        "w_{C1} & \\ldots & w_{Cd}\n",
        "\\end{bmatrix}\n",
        "\\begin{bmatrix}\n",
        "x_1 \\\\\n",
        "\\vdots\\\\\n",
        "x_d\n",
        "\\end{bmatrix} + \n",
        "\\begin{bmatrix}\n",
        "b_1\\\\\n",
        "\\vdots\\\\\n",
        "b_C\n",
        "\\end{bmatrix}\n",
        "\\end{equation}\n",
        "\n",
        "\\\\\n",
        "\n",
        "* where $\\bf{W} \\in  {\\rm I\\!R^{C \\times d}}$ and $\\bf{b} \\in  {\\rm I\\!R^C}$ are respectively the matrix of weights and the vector of biaises.\n",
        "\n",
        "\\\\\n",
        "\n",
        "* The $k^{th}$ row of $\\bf{W}$ with the $k^{th}$ element of $\\bf{b}$ list the parameters of the logistic regression that classifies the elements of the class $k$ against all the others. \n"
      ]
    },
    {
      "cell_type": "markdown",
      "metadata": {
        "colab_type": "text",
        "id": "GPQiM1E7sG9E"
      },
      "source": [
        "* The vector $\\bf{s}$ is then transformed into vector of probabilities $\\bf{\\hat{p}} \\in  {\\rm I\\!R^C}$ as follows\n",
        "\n",
        "\n",
        "\\\\\n",
        "\n",
        "\\begin{equation}\n",
        "\\bf{\\hat{p}}=\n",
        "\\begin{bmatrix}\n",
        "\\hat{p}_1\\\\\n",
        "\\vdots\\\\\n",
        "\\hat{p}_C\\\\\n",
        "\\end{bmatrix}\n",
        "=\n",
        "\\begin{bmatrix}\n",
        "\\frac{e^{s_1}}{\\sum_{i = 1}^{C} e^{s_i}}\\\\\n",
        "\\vdots\\\\\n",
        "\\frac{e^{s_C}}{\\sum_{i = 1}^{C} e^{s_i}}\\\\\n",
        "\\end{bmatrix}.\n",
        "\\end{equation}\n",
        "\n",
        "\\\\\n",
        "\n",
        "* The function that transforms each score $s_k$ from the vector $\\bf{s}$  into probability is called ***softmax***.\n",
        "\n",
        "\\\\\n",
        "\n",
        "* Note however to transform $s_k$ into $\\hat{p}_k$ the **scalar** softmax function requires the other scores $\\{s_i, i \\neq k \\}$ \n",
        "\n",
        "\\\\\n",
        "\n",
        "\\begin{equation}\n",
        "\\mbox{softmax}(k,\\bf{s}) = \\frac{e^{s_k}}{\\sum_{j = 1}^{C} e^{s_j}}.\n",
        "\\end{equation}\n",
        "\n",
        "\\\\\n",
        "\n",
        "* **Vector** version of softmax function is defined as\n",
        "\n",
        "\\\\\n",
        "\n",
        "\\begin{equation}\n",
        "\\mbox{softmax}(\\bf{s}) = \n",
        "\\begin{bmatrix}\n",
        "\\mbox{softmax}(1,\\bf{s})\\\\\n",
        "\\vdots\\\\\n",
        "\\mbox{softmax}(C,\\bf{s})\n",
        "\\end{bmatrix}. \n",
        "\\end{equation}\n",
        "\n",
        "\\\\\n",
        "\n",
        "* Finally the softmax of any $\\bf{x}$ is compactly expressed as \n",
        "\n",
        "\\\\\n",
        "\n",
        "\\begin{equation}\n",
        "\\hat{\\bf{p}} =  \\mbox{softmax}(\\bf{W} \\bf{x} + \\bf{b}).\n",
        "\\end{equation}\n",
        "\n"
      ]
    },
    {
      "cell_type": "markdown",
      "metadata": {
        "colab_type": "text",
        "id": "JrCzemMZUPnz"
      },
      "source": [
        "## Formalization"
      ]
    },
    {
      "cell_type": "markdown",
      "metadata": {
        "colab_type": "text",
        "id": "psd-N74lFzQn"
      },
      "source": [
        "* Let $\\bf{X}$ be a dataset of $n$ examples described through $d$ variables and $\\bf{y}$  the corresponding vector of outputs.\n",
        "\n",
        "\\\\\n",
        "\n",
        "\\begin{equation}\n",
        "\\bf{X} = \n",
        "\\begin{bmatrix}\n",
        "x_{11} & \\ldots & x_{1d}\\\\\n",
        "\\vdots & \\ddots  & \\vdots \\\\\n",
        "x_{n1} &\\ldots & x_{nd}\n",
        "\\end{bmatrix},\n",
        "\\quad \\bf{y} = \n",
        "\\begin{bmatrix}\n",
        "y_1\\\\\n",
        "\\vdots\\\\\n",
        "y_n\n",
        "\\end{bmatrix}.\n",
        "\\end{equation}\n",
        "\n",
        "\n",
        "\\\\\n",
        "\n",
        "* Every $i^{th}$ entry of $\\bf{y}$ represents the  category of the $i^{th}$ row in $\\bf{X}$.\n",
        "\n",
        "\\\\\n",
        "\n",
        "* Let $C$ be the number of categories. The value of every $y_i$ is an integer between  $1$ and $C$.\n",
        "\n",
        "\\\\\n",
        "\n",
        "* Training softmax regression model from $\\bf{X}$ first require the transformation of  $\\bf{y}$ into matrix of probabilities  \n",
        "\n",
        "\\\\\n",
        "\n",
        "\\begin{equation}\n",
        "\\bf{P} =\n",
        "\\begin{bmatrix}\n",
        "p_{11} & \\ldots & p_{1C}\\\\\n",
        "\\vdots & \\ddots & \\vdots \\\\\n",
        "p_{n1} & \\ldots & p_{nC}\n",
        "\\end{bmatrix},\n",
        "\\end{equation}\n",
        "\n",
        "\\\\\n",
        "\n",
        "* where each entry $p_{ik}$ describes the probability that the $i^{th}$ example of $\\bf{X}$ belongs to the class $k$.\n",
        "\n",
        "\\\\\n",
        "\n",
        "* It is easy to see that for every row in $\\bf{P}$ only one entry will be set to $1$ while all the others will be set to $0$ in which case rows of $\\bf{P}$ are said to be ***one-hot encoded***.\n",
        "\n",
        "\\\\\n",
        "\n",
        "* In some cases matrix $\\bf{P}$ can represent membership to several classes with different probabilities. \n",
        "\n",
        "\\\\\n",
        "\n",
        "* We define $\\bf{\\hat{P}}$ as the matrix of **estimated probabilities** through softmax regression for some values of $\\bf{W}$ and $\\bf{b}$ \n",
        "\n",
        "\\\\\n",
        "\n",
        "\\begin{equation}\n",
        "\\bf{\\hat{P}} = \n",
        "\\begin{bmatrix}\n",
        "\\hat{p}_{11} & \\ldots & \\hat{p}_{1k}\\\\\n",
        "\\vdots & \\ddots & \\vdots \\\\\n",
        "\\hat{p}_{n1} & \\ldots & \\hat{p}_{nk}\n",
        "\\end{bmatrix}=\n",
        "softmax(\\bf{X}W^T + \\bf{b}^T) \n",
        "\\end{equation}\n",
        "\n",
        "\\\\\n",
        "\n",
        "* Note the dimensionality of $\\bf{X} \\bf{W}^T$ is $n \\times k$ which makes the sum with $\\bf{b}^T$ impossible;\n",
        "\n",
        "\\\\\n",
        "\n",
        "* To avoid duplicating $\\bf{b}^T$ $n$ times we introduce the operation of ***broadcasting*** which allows $\\bf{b}^T$ to distribute on every row of $\\bf{X} \\bf{W}^T$;\n",
        "\n",
        "\\\\\n",
        "\n",
        "* Broadcasting is not a mathematical operation but it is widespread in Machine Learning community (it is supported in *numpy* and *tensorflow*).\n",
        "\n",
        "\\\\\n",
        "\n",
        "* Lasty we define $\\bf{\\hat{y}}$ as the vector of estimated classes \n",
        "\n",
        "\\begin{equation}\n",
        "\\bf{\\hat{y}} =\n",
        "\\begin{bmatrix}\n",
        "\\hat{y}_1\\\\\n",
        "\\vdots\\\\\n",
        "\\hat{y}_n\\\\\n",
        "\\end{bmatrix} =\n",
        "\\begin{bmatrix}\n",
        "\\mbox{argmax}(\\bf{\\hat{P}}_{1,:})\\\\\n",
        "\\vdots\\\\\n",
        "\\mbox{argmax}(\\bf{\\hat{P}}_{n,:})\\\\\n",
        "\\end{bmatrix},\n",
        "\\end{equation}\n",
        "\n",
        "\\\\\n",
        "\n",
        "* where $\\mbox{argmax}(\\bf{x})$ is a function that for a given vector $\\bf{x}$ returns the index of the biggest value.\n"
      ]
    },
    {
      "cell_type": "markdown",
      "metadata": {
        "colab_type": "text",
        "id": "oLsE854EUkeB"
      },
      "source": [
        "## Loss Function (Cross Entropy)"
      ]
    },
    {
      "cell_type": "markdown",
      "metadata": {
        "id": "ZlsXXwQdBBdN",
        "colab_type": "text"
      },
      "source": [
        "### Defintion"
      ]
    },
    {
      "cell_type": "markdown",
      "metadata": {
        "colab_type": "text",
        "id": "Lfe5GHShUrYa"
      },
      "source": [
        "* In classification models the widespread loss function is known as ***cross entropy*** or ***negative log-likelihood***  \n",
        "\n",
        "\\\\\n",
        "\n",
        "\\begin{equation}\n",
        "J(\\bf{W}, \\bf{b}) = \\frac{1}{n}\\sum_{i = 1}^n \\sum_{k = 1}^C -p_{i,k} \\log(\\hat{p}_{i,k}),\n",
        "\\end{equation}\n",
        "\n",
        "\\\\\n",
        "\n",
        "* where $p_{i,k}$ and $\\hat{p}_{i,k}$ are respectively the **true** and the **estimated** probabilities that $\\bf{X}_{i,:}$ belongs to class $k$;\n",
        "\n",
        " "
      ]
    },
    {
      "cell_type": "markdown",
      "metadata": {
        "id": "Wdx1fAXhBEV_",
        "colab_type": "text"
      },
      "source": [
        "### Reflection over the Loss Function"
      ]
    },
    {
      "cell_type": "markdown",
      "metadata": {
        "colab_type": "text",
        "id": "1qxjQV2Qh-SM"
      },
      "source": [
        "\n",
        "* If  $P_{i,:}$ are one-hot vectors then  $p_{i,y_i} = 1$  and $\\{p_{i,j} = 0, j \\neq y_i\\}$ thus the sum $\\sum_{j = 1}^k - p_{i,j} \\log(\\hat{p}_{i,j}) = - \\log(\\hat{p}_{i,y_i})$.\n",
        "  * If the predicted probability $\\hat{p}_{i,y_i}$ tends to $1$ its $\\log$  tends to $0$ (see red plot below);\n",
        "\n",
        "  * If however the predicted probability $\\hat{p}_{i,y_i}$ tends to $0$ then its $\\log$  will tend towards $- \\infty$ (see red plot below);\n",
        "\n",
        "  * from this we get that the less precise we predict $\\hat{p}_{i,y_i}$ the bigger will be $- \\hat{p}_{i,j}$ and vice versa (see blue plot below);\n",
        "\n",
        "  * The operation  $ \\frac{1}{n}\\sum_{i = 1}^n$ produces an average of the negative log-likelihoods.\n",
        "\n",
        "\\\\\n",
        "\n",
        "*  In case  $P_{i,:}$ are not one-hot vectors the mechanisms described above still apply.\n",
        " "
      ]
    },
    {
      "cell_type": "markdown",
      "metadata": {
        "colab_type": "text",
        "id": "tY-NU16ab43r"
      },
      "source": [
        "![](https://drive.google.com/uc?export=view&id=19dQnBxZsFehf-TH8ao_cRQ3ksJPlMuea)\n"
      ]
    },
    {
      "cell_type": "markdown",
      "metadata": {
        "colab_type": "text",
        "id": "aRq2RB8KaZcI"
      },
      "source": [
        "## Estimation of Parameters"
      ]
    },
    {
      "cell_type": "markdown",
      "metadata": {
        "colab_type": "text",
        "id": "Sq1Exa6TLFui"
      },
      "source": [
        "### Gradient of Negative Log Likelihood"
      ]
    },
    {
      "cell_type": "markdown",
      "metadata": {
        "colab_type": "text",
        "id": "HQJgdM8kb9JA"
      },
      "source": [
        "* Minimization of $J$ is achieved through iterative computations of $\\nabla_{\\theta} J$ where $\\theta = [\\bf{W}, \\bf{b}]$;\n",
        "\n",
        "\\\\\n",
        "\n",
        "* Cross-entropy w.r.t weights and biaises is expressed as  \n",
        "\n",
        "\\\\\n",
        "\n",
        "\\begin{equation}\n",
        "J(\\bf{W}, \\bf{b}) = \\frac{1}{n}\\sum_{i = 1}^n \\sum_{j = 1}^k -p_{i,j} \\log(\\hat{p}_{i,j}) = \\frac{-1}{n}\\sum_{i = 1}^n \\sum_{j = 1}^k p_{i,j} \\log \\left( \\frac{e^{\\bf{W}_{j,:}\\bf{X}_{:,i}^T + b_j } }{\\sum_{l = 1}^k e^{\\bf{W}_{l,:}\\bf{X}_{:,i}^T + b_l} }  \\right).\n",
        "\\end{equation}\n",
        "\n",
        "\\\\\n",
        "\n",
        "* The above equation shows that observations $\\bf{X}_{:,i}$, probabilities $p_{i,j}$ and parameters $\\bf{W}_{i,j}, b_i$ are all  intertwined;\n",
        "\n",
        "\\\\\n",
        "\n",
        "\n",
        "* To see clearer we visualize computational graph of $J$ defined on a $2 \\times 2$ dataset $\\bf{X}$ with $2$ categories;\n",
        "\n",
        "\\\\\n",
        "\n",
        "![](https://drive.google.com/uc?export=view&id=1vU7UhPRACpUsgvcVHLqeO7UbB_b7TpoB)\n"
      ]
    },
    {
      "cell_type": "markdown",
      "metadata": {
        "colab_type": "text",
        "id": "ARkomimvtgFZ"
      },
      "source": [
        "\n",
        " * Computational graph of $J$ is organized into ***layers*** where:\n",
        "    * Bottom layer contains parameters of the model (weights and bias);\n",
        "\n",
        "    * Parameters are ***flattened*** in the sens we no longer care about  **shapes** of $\\bf{W}$ and $\\bf{b}$;\n",
        "\n",
        "    * Second layer calculates scores for every observation and every class;\n",
        "\n",
        "    * Note that arrows between layers are present only when an explicit relationship exists between the variables;\n",
        "\n",
        "    * $3^{rd}$ layer is made up by $\\hat{p}_{i,k}$ that depend on the previous layer but also on $p_{i,k}$ with  no dependency;\n",
        "\n",
        "    * Last layer is the loss function which depends on $\\hat{p}_{i,k}$ and $p_{i,k}$;\n",
        "    \n"
      ]
    },
    {
      "cell_type": "markdown",
      "metadata": {
        "id": "fl6vO4IFwTM3",
        "colab_type": "text"
      },
      "source": [
        "### Mecanism to Compute $\\nabla J$"
      ]
    },
    {
      "cell_type": "markdown",
      "metadata": {
        "colab_type": "text",
        "id": "Sc73YOgj1MD1"
      },
      "source": [
        "* Gradient of $J$ w.r.t  $\\theta = [w_{11},w_{12},w_{21},w_{22},b_1,b_2]$ is obtained by applying multivariable chaine rule throughout the different layers from up to down:\n",
        "\n",
        "  * Calculate $\\nabla_{\\hat{p}} J$, Gradient of $J$ w.r.t to estimated probabilities $\\hat{p} = [\\hat{p}_{1,1},\\hat{p}_{1,2},\\hat{p}_{2,1},\\hat{p}_{2,2}]$;\n",
        "  \n",
        "  * Calculate $\\left[\\frac{\\partial \\hat{p}}{\\partial s}\\right]$, Jacobian between estimated probabilities $\\hat{p}$ and scores $\\bf{s}$ $ = [s_{1,1},s_{1,2},s_{2,1},s_{2,2}]$;\n",
        "\n",
        "  * Calculate $\\nabla_{s} J$,  Gradient of $J$ w.r.t to scores $s$ with the multivariable chain rule\n",
        "  \\begin{equation}\n",
        "  \\nabla_{s} J = \n",
        "  \\begin{bmatrix}\n",
        "  \\frac{\\partial \\hat{p}}{\\partial s}\n",
        "  \\end{bmatrix}^T\n",
        "  \\nabla_{\\hat{p}} J.\n",
        "  \\end{equation}\n",
        "\n",
        "  * Calculate  $\\left[ \\frac{\\partial \\bf{s}}{\\partial \\theta} \\right]$,  Jacobian between scores $s$ and parameters $\\theta$;\n",
        "  \n",
        "  * Calculate $\\nabla_{\\theta} J$ with the multivariable chaine rule\n",
        "  \n",
        "  \\begin{equation}\n",
        "  \\nabla_{\\theta} J = \n",
        "  \\begin{bmatrix}\n",
        "  \\frac{\\partial s}{\\partial \\theta}\n",
        "  \\end{bmatrix}^T\n",
        "  \\nabla_{s} J.\n",
        "  \\end{equation}  \n",
        "  "
      ]
    },
    {
      "cell_type": "markdown",
      "metadata": {
        "id": "ZCwe-MbbXE9P",
        "colab_type": "text"
      },
      "source": [
        "### Notations"
      ]
    },
    {
      "cell_type": "markdown",
      "metadata": {
        "colab_type": "text",
        "id": "v_0vnvitSiOC"
      },
      "source": [
        "* To make implementation easy and simple we organize the computation through the following list of objects:\n",
        "\n",
        "\\\\\n",
        "\n",
        "* $\\bf{X}$: matrix of $n$ examples with $d$ variables;\n",
        "\n",
        "* $\\bf{\\Psi} = [\\bf{X} \\vert 1] \\in  {\\rm I\\!R^{n \\times (d+1)}}$: concatenation of $\\bf{X}$ with column vector of $1$s;\n",
        "\n",
        "* $C$: number of classes;\n",
        "\n",
        "* $\\bf{P} \\in {\\rm I\\!R^{n \\times C}}$: matrix of $n$ examples and their belonging probabilities to $C$ classes;\n",
        "\n",
        "* $\\bf{W} \\in {\\rm I\\!R^{C \\times d}}, \\bf{b} \\in {\\rm I\\!R^{C}}$: respectively weight matrix and bias vector;\n",
        "\n",
        "* $\\bf{\\Theta} = [\\bf{W}\\vert \\bf{b}]$: matrix of all parameters;\n",
        "\n",
        "* $\\Theta_{idx} =  \\{[1,1],\\ldots,[1,d+1],[2,1],\\ldots,[C,d+1]\\}$: set of indices associated to each element of $\\bf{\\Theta}$ (from top to down and left to right). This set of indices is useful to flatten $\\bf{\\Theta}$ in order to manipulate weights and bias as one vector. The first and last elements of $\\bf{\\Theta}$ are accessed as $\\bf{\\Theta}_{\\Theta_{idx}[1]}$ and $\\bf{\\Theta}_{\\Theta_{idx}[C \\times (d+1)]}$;\n",
        "\n",
        "\\\\\n",
        "\n",
        "* $\\bf{S} = \\bf{\\Psi}  \\bf{\\Theta}^T \\in {\\rm I\\!R^{n \\times C}}$: matrix of $C$ scores for the $n$ examples in $\\bf{X}$  \n",
        "\n",
        "\\\\\n",
        "\n",
        "\\begin{equation}\n",
        "\\bf{S} = \n",
        "\\begin{bmatrix}\n",
        "\\sum_{f = 1}^{d+1} \\Psi_{1f} \\Theta_{1f} & \\cdots & \\sum_{f = 1}^{d+1} \\Psi_{1f} \\Theta_{Cf}\\\\\n",
        "\\vdots & \\ddots & \\vdots\\\\\n",
        "\\sum_{f = 1}^{d+1} \\Psi_{nf} \\Theta_{1f} & \\cdots & \\sum_{f = 1}^{d+1} \\Psi_{nf} \\Theta_{Cf}\n",
        "\\end{bmatrix}.\n",
        "\\end{equation}\n",
        "\n",
        "\\\\\n",
        "\n",
        "  * $S_{idx} = \\{[1,1], [1,2],\\ldots,[1,C],[2,1],\\ldots,[2,C],\\ldots, [n,C]\\}$: set of indices of $\\bf{S}$. \n",
        "  \n",
        "* $\\bf{\\hat{P}} = \\mbox{softmax}(\\bf{S}) \\in  {\\rm I\\!R^{n \\times d}}$: matrix of $n$ examples and their estimated belonging probabilities to the $C$ classes.\n",
        "* The flattening of $\\bf{\\hat{P}}$ and $\\bf{P}$ is handled with the set of indices $\\hat{P}_{idx}$ and $P_{idx}$ both equal to $S_{idx}$ as they all refer to matrices of dimensionality $n \\times C$.   \n",
        "\n",
        "* Matrices $\\bf{\\Theta}, \\bf{S}, \\bf{\\hat{P}}, \\bf{P}$ and $J$ are respectively flattened and organized bottom-up  "
      ]
    },
    {
      "cell_type": "markdown",
      "metadata": {
        "colab_type": "text",
        "id": "IIkshF7Q78U7"
      },
      "source": [
        "![](https://drive.google.com/uc?export=view&id=1Ug6TtX072rvEGoQ0HYDmvGmp4SjEnnKe)\n"
      ]
    },
    {
      "cell_type": "markdown",
      "metadata": {
        "id": "Il7P30joaPec",
        "colab_type": "text"
      },
      "source": [
        "### Computation"
      ]
    },
    {
      "cell_type": "markdown",
      "metadata": {
        "colab_type": "text",
        "id": "iDlBT_g4-Dy_"
      },
      "source": [
        "* Derivations are carried out from top to down;\n",
        "\n"
      ]
    },
    {
      "cell_type": "markdown",
      "metadata": {
        "id": "CsQS4jxHATZl",
        "colab_type": "text"
      },
      "source": [
        "#### Gradient of $J$ w.r.t $\\bf{\\hat{P}}$"
      ]
    },
    {
      "cell_type": "markdown",
      "metadata": {
        "id": "CwsnlcQWAPGQ",
        "colab_type": "text"
      },
      "source": [
        "* First, we compute gradient of $J$ w.r.t $\\bf{\\hat{P}}$\n",
        "\n",
        "\\\\\n",
        "\n",
        "\\begin{equation}\n",
        "\\nabla_{\\hat{p}} J = \n",
        "\\frac{-1}{n}\n",
        "\\begin{bmatrix}\n",
        "\\frac{P_{P_{idx}[1]}}{\\hat{P}_{P_{idx}[1]}}\\\\\n",
        "\\vdots\\\\\n",
        "\\frac{P_{P_{idx}[n \\times C]}}{\\hat{P}_{P_{idx}[n \\times C]}}\n",
        "\\end{bmatrix}.\n",
        "\\end{equation}\n",
        "\n",
        "\n",
        "\n",
        "\n",
        "  "
      ]
    },
    {
      "cell_type": "markdown",
      "metadata": {
        "id": "Vq8_egEuAgSS",
        "colab_type": "text"
      },
      "source": [
        "#### Jacobian between  elements of $\\bf{\\hat{P}}$ and $\\bf{S}$"
      ]
    },
    {
      "cell_type": "markdown",
      "metadata": {
        "id": "yS4_2WRkAgly",
        "colab_type": "text"
      },
      "source": [
        "\n",
        "* As a start, consider softmax function on one vector of scores $[s_1,\\ldots,s_C]$\n",
        "  \n",
        "\\\\\n",
        "\n",
        "\\begin{equation}\n",
        "\\hat{p}_i = \\frac{e^{s_i}}{\\sum_{j = 1}^{C} e^{s_j}}. \n",
        "\\end{equation}\n",
        "\n",
        "* Partial derivative of $\\hat{p}\n",
        "_i$ w.r.t to $s_j$ is\n",
        "\n",
        "\\\\\n",
        "\n",
        "  \\begin{equation}\n",
        "  \\frac{\\partial \\hat{p}_i}{\\partial s_j} =        1_{\\{i = j\\}} \\hat{p}_i - \\hat{p}_i \\hat{p}_j\n",
        "  \\end{equation}\n",
        "  \n",
        " \n",
        " \\\\\n",
        "  \n",
        "* where $1_{\\{i = j\\}}$ an ***indicator function***  equals to $1$ when the condition $i = j$ is satisfied;\n",
        "\n",
        "\\\\\n",
        "\n",
        "\n",
        "* Let $i = [i_1,i_2]\\in \\hat{P}_{idx}$ and  $j = [j_1, j_2]\\in \\hat{S}_{idx}$ be two coordinate of indices respectively referring to entries of $\\bf{\\hat{P}}$ and $\\bf{S}$. The Jacobian $[\\frac{\\partial \\hat{p}}{\\partial s}]$ is the matrix of partial derivatives of any $\\hat{p}_{i_1, i_2}$ w.r.t any $s_{j_1,j_2}$;\n",
        "\n",
        "\\\\\n",
        "\n",
        "* The generic expression can be obtained from the vectorial case with an additional indicator function\n",
        "\n",
        "\\\\\n",
        "\n",
        "\\begin{equation}\n",
        "\\frac{\\partial \\hat{p}_i}{\\partial s_j} = \n",
        "1_{\\{i_1 = j_1\\}} \\left[  \\left(1_{\\{i_2 = j_2\\}} \\hat{p}_{i}   \\right) - \\left( \\hat{p}_i \\hat{p}_j \\right)  \\right].\n",
        "\\end{equation}\n",
        "\n",
        "\\\\\n",
        "\n",
        "![](https://drive.google.com/uc?export=view&id=1vU7UhPRACpUsgvcVHLqeO7UbB_b7TpoB)\n",
        "\n",
        "\n",
        "* Keep in mind that $i$ and $j$ are **coordinates of indices** and  thus $\\hat{p}_i = \\hat{p}_{i_1,i_2}$;\n",
        "   \n",
        "* Indicator function $1_{\\{i_1 = j_1\\}} = 0$ when no computational link exists between $s_j$ and $p_i$;\n",
        "\n",
        "* For example it is obvious that  $\\frac{\\partial \\hat{p}_{1,1}}{\\partial s_{2,1}} = 0$ as the score $s_{2,1}$ appears nowhere in the expression of $\\hat{p}_{1,2}$.\n",
        "\n",
        "\\\\\n",
        "\n",
        "* To populate the Jacobian $\\left[\\frac{\\partial\\hat{p}}{\\partial s} \\right]$:\n",
        "  * iterate over $i \\in \\hat{P}_{idx}$;\n",
        " \n",
        "  * For each given $i$, iterate over all $j \\in \\hat{S}_{idx}$ and compute $\\frac{\\partial \\hat{p}_i}{\\partial s_j}$.\n",
        "     \n",
        "\n",
        "  "
      ]
    },
    {
      "cell_type": "markdown",
      "metadata": {
        "id": "aeuezSNED4IH",
        "colab_type": "text"
      },
      "source": [
        "#### Gradient of $J$ w.r.t $s$"
      ]
    },
    {
      "cell_type": "markdown",
      "metadata": {
        "id": "aQJri2l_D4Xb",
        "colab_type": "text"
      },
      "source": [
        "\n",
        "\n",
        "\\begin{equation}\n",
        "\\nabla_{s} J = \n",
        "\\begin{bmatrix}\n",
        "  \\frac{\\partial \\hat{p}}{\\partial s} \n",
        "  \\end{bmatrix}^T \\nabla_{\\hat{p}} J.\n",
        "\\end{equation}\n"
      ]
    },
    {
      "cell_type": "markdown",
      "metadata": {
        "id": "LjTZHd5XEDn-",
        "colab_type": "text"
      },
      "source": [
        "#### Jacobian between  elements of $\\bf{S}$ and $\\bf{\\Theta}$"
      ]
    },
    {
      "cell_type": "markdown",
      "metadata": {
        "id": "sWkJBWGqEDze",
        "colab_type": "text"
      },
      "source": [
        " * Let $i \\in S_{idx}$ and $j \\in \\Theta_{idx}$ be two coordinates of indices, the partial derivative of $s_i$ w.r.t $\\theta_j$ is\n",
        " \n",
        " \\begin{equation}\n",
        " \\frac{\\partial s_i}{\\partial \\theta_j} = 1_{ \\{  \\{i_2 = j_1\\}  or  \\{j_1 = d+1\\}  \\}} \\Psi_{i_1,j_1}, \n",
        " \\end{equation}\n",
        " \n",
        " * the indicator function  $1_{ \\{  \\{i_2 = j_1\\}  or  \\{j_1 = d+1\\}  \\}}$ contains $2$ conditions linked with a logical ***or*** which means that the function equals to one if ***at least*** one condition holds. The result should be easy to get if you refer to the explicit expression of $\\bf{S}$ above.\n"
      ]
    },
    {
      "cell_type": "markdown",
      "metadata": {
        "id": "WwP-1safEfnG",
        "colab_type": "text"
      },
      "source": [
        "####  Gradient of $J$ w.r.t $\\theta$"
      ]
    },
    {
      "cell_type": "markdown",
      "metadata": {
        "id": "fg0gRpiLEfyK",
        "colab_type": "text"
      },
      "source": [
        "\n",
        "\\begin{equation}\n",
        "\\nabla_{\\theta} J = \n",
        "\\begin{bmatrix}\n",
        "\\frac{\\partial s}{\\partial \\theta}\n",
        "\\end{bmatrix}^T\n",
        "\\nabla_{s} J.\n",
        "\\end{equation}\n",
        "\n"
      ]
    },
    {
      "cell_type": "markdown",
      "metadata": {
        "colab_type": "text",
        "id": "xQ2Wr2-ry1MD"
      },
      "source": [
        "### Exercice in Python: "
      ]
    },
    {
      "cell_type": "markdown",
      "metadata": {
        "id": "uAcD1gz6c69Y",
        "colab_type": "text"
      },
      "source": [
        "#### Problem Statement"
      ]
    },
    {
      "cell_type": "markdown",
      "metadata": {
        "colab_type": "text",
        "id": "yS8myZbXzfyV"
      },
      "source": [
        "\n",
        "* Implement gradient descent to estimate parameters of softmax model with $2$ classes using only *numpy*.\n",
        "\n",
        "* Dataset can be downloaded, splitted, normalized and visualized through the code below;\n",
        "\n",
        "* Guidlines will be given for each function\n"
      ]
    },
    {
      "cell_type": "code",
      "metadata": {
        "id": "Yc66lkw3Z6jn",
        "colab_type": "code",
        "outputId": "f5aa74c9-865e-4c1f-db74-89a464aa7899",
        "colab": {
          "base_uri": "https://localhost:8080/",
          "height": 1000
        }
      },
      "source": [
        "import requests \n",
        "from io import BytesIO\n",
        "import pandas as pd\n",
        "\n",
        "def download_csv(spread_sheet_id):\n",
        "    try:\n",
        "        r = requests.get('https://docs.google.com/spreadsheet/ccc?key='+ spread_sheet_id + '&output=csv')\n",
        "        req_content = r.content\n",
        "        df = pd.read_csv(BytesIO(req_content))\n",
        "        return df\n",
        "    except Exception as e:\n",
        "        print(e)\n",
        "\n",
        "dataset_id = '1OLZyOG14rjuCcpM_qnCPVWBsihqYQpu8vw7LNEoaBWQ'\n",
        "\n",
        "dataset_df = download_csv(dataset_id) \n",
        "display(dataset_df)"
      ],
      "execution_count": 0,
      "outputs": [
        {
          "output_type": "display_data",
          "data": {
            "text/html": [
              "<div>\n",
              "<style scoped>\n",
              "    .dataframe tbody tr th:only-of-type {\n",
              "        vertical-align: middle;\n",
              "    }\n",
              "\n",
              "    .dataframe tbody tr th {\n",
              "        vertical-align: top;\n",
              "    }\n",
              "\n",
              "    .dataframe thead th {\n",
              "        text-align: right;\n",
              "    }\n",
              "</style>\n",
              "<table border=\"1\" class=\"dataframe\">\n",
              "  <thead>\n",
              "    <tr style=\"text-align: right;\">\n",
              "      <th></th>\n",
              "      <th>feature_1</th>\n",
              "      <th>feature_2</th>\n",
              "      <th>class</th>\n",
              "    </tr>\n",
              "  </thead>\n",
              "  <tbody>\n",
              "    <tr>\n",
              "      <th>0</th>\n",
              "      <td>76.284982</td>\n",
              "      <td>60.928198</td>\n",
              "      <td>0</td>\n",
              "    </tr>\n",
              "    <tr>\n",
              "      <th>1</th>\n",
              "      <td>76.020258</td>\n",
              "      <td>60.797732</td>\n",
              "      <td>0</td>\n",
              "    </tr>\n",
              "    <tr>\n",
              "      <th>2</th>\n",
              "      <td>76.001697</td>\n",
              "      <td>62.508987</td>\n",
              "      <td>0</td>\n",
              "    </tr>\n",
              "    <tr>\n",
              "      <th>3</th>\n",
              "      <td>80.181739</td>\n",
              "      <td>64.425732</td>\n",
              "      <td>0</td>\n",
              "    </tr>\n",
              "    <tr>\n",
              "      <th>4</th>\n",
              "      <td>78.467312</td>\n",
              "      <td>61.504805</td>\n",
              "      <td>0</td>\n",
              "    </tr>\n",
              "    <tr>\n",
              "      <th>5</th>\n",
              "      <td>78.252342</td>\n",
              "      <td>61.528269</td>\n",
              "      <td>0</td>\n",
              "    </tr>\n",
              "    <tr>\n",
              "      <th>6</th>\n",
              "      <td>77.881669</td>\n",
              "      <td>57.537015</td>\n",
              "      <td>0</td>\n",
              "    </tr>\n",
              "    <tr>\n",
              "      <th>7</th>\n",
              "      <td>76.056499</td>\n",
              "      <td>64.518068</td>\n",
              "      <td>0</td>\n",
              "    </tr>\n",
              "    <tr>\n",
              "      <th>8</th>\n",
              "      <td>80.097033</td>\n",
              "      <td>59.205459</td>\n",
              "      <td>0</td>\n",
              "    </tr>\n",
              "    <tr>\n",
              "      <th>9</th>\n",
              "      <td>76.462411</td>\n",
              "      <td>58.254293</td>\n",
              "      <td>0</td>\n",
              "    </tr>\n",
              "    <tr>\n",
              "      <th>10</th>\n",
              "      <td>76.532905</td>\n",
              "      <td>63.391683</td>\n",
              "      <td>0</td>\n",
              "    </tr>\n",
              "    <tr>\n",
              "      <th>11</th>\n",
              "      <td>81.813037</td>\n",
              "      <td>57.794224</td>\n",
              "      <td>0</td>\n",
              "    </tr>\n",
              "    <tr>\n",
              "      <th>12</th>\n",
              "      <td>72.699649</td>\n",
              "      <td>58.061095</td>\n",
              "      <td>0</td>\n",
              "    </tr>\n",
              "    <tr>\n",
              "      <th>13</th>\n",
              "      <td>77.213404</td>\n",
              "      <td>57.757270</td>\n",
              "      <td>0</td>\n",
              "    </tr>\n",
              "    <tr>\n",
              "      <th>14</th>\n",
              "      <td>76.679257</td>\n",
              "      <td>63.461161</td>\n",
              "      <td>0</td>\n",
              "    </tr>\n",
              "    <tr>\n",
              "      <th>15</th>\n",
              "      <td>74.739075</td>\n",
              "      <td>57.442868</td>\n",
              "      <td>0</td>\n",
              "    </tr>\n",
              "    <tr>\n",
              "      <th>16</th>\n",
              "      <td>79.020948</td>\n",
              "      <td>61.641011</td>\n",
              "      <td>0</td>\n",
              "    </tr>\n",
              "    <tr>\n",
              "      <th>17</th>\n",
              "      <td>79.010728</td>\n",
              "      <td>57.413238</td>\n",
              "      <td>0</td>\n",
              "    </tr>\n",
              "    <tr>\n",
              "      <th>18</th>\n",
              "      <td>81.255086</td>\n",
              "      <td>61.453509</td>\n",
              "      <td>0</td>\n",
              "    </tr>\n",
              "    <tr>\n",
              "      <th>19</th>\n",
              "      <td>78.691649</td>\n",
              "      <td>57.448168</td>\n",
              "      <td>0</td>\n",
              "    </tr>\n",
              "    <tr>\n",
              "      <th>20</th>\n",
              "      <td>76.644596</td>\n",
              "      <td>60.861159</td>\n",
              "      <td>0</td>\n",
              "    </tr>\n",
              "    <tr>\n",
              "      <th>21</th>\n",
              "      <td>76.986072</td>\n",
              "      <td>61.890529</td>\n",
              "      <td>0</td>\n",
              "    </tr>\n",
              "    <tr>\n",
              "      <th>22</th>\n",
              "      <td>77.665627</td>\n",
              "      <td>60.862211</td>\n",
              "      <td>0</td>\n",
              "    </tr>\n",
              "    <tr>\n",
              "      <th>23</th>\n",
              "      <td>76.459880</td>\n",
              "      <td>62.497705</td>\n",
              "      <td>0</td>\n",
              "    </tr>\n",
              "    <tr>\n",
              "      <th>24</th>\n",
              "      <td>74.276068</td>\n",
              "      <td>61.447592</td>\n",
              "      <td>0</td>\n",
              "    </tr>\n",
              "    <tr>\n",
              "      <th>25</th>\n",
              "      <td>76.281982</td>\n",
              "      <td>57.866243</td>\n",
              "      <td>0</td>\n",
              "    </tr>\n",
              "    <tr>\n",
              "      <th>26</th>\n",
              "      <td>78.359785</td>\n",
              "      <td>57.494943</td>\n",
              "      <td>0</td>\n",
              "    </tr>\n",
              "    <tr>\n",
              "      <th>27</th>\n",
              "      <td>81.442303</td>\n",
              "      <td>62.281087</td>\n",
              "      <td>0</td>\n",
              "    </tr>\n",
              "    <tr>\n",
              "      <th>28</th>\n",
              "      <td>76.353746</td>\n",
              "      <td>56.707815</td>\n",
              "      <td>0</td>\n",
              "    </tr>\n",
              "    <tr>\n",
              "      <th>29</th>\n",
              "      <td>75.659582</td>\n",
              "      <td>57.514569</td>\n",
              "      <td>0</td>\n",
              "    </tr>\n",
              "    <tr>\n",
              "      <th>...</th>\n",
              "      <td>...</td>\n",
              "      <td>...</td>\n",
              "      <td>...</td>\n",
              "    </tr>\n",
              "    <tr>\n",
              "      <th>170</th>\n",
              "      <td>79.380286</td>\n",
              "      <td>66.146315</td>\n",
              "      <td>1</td>\n",
              "    </tr>\n",
              "    <tr>\n",
              "      <th>171</th>\n",
              "      <td>81.506206</td>\n",
              "      <td>70.234188</td>\n",
              "      <td>1</td>\n",
              "    </tr>\n",
              "    <tr>\n",
              "      <th>172</th>\n",
              "      <td>78.288736</td>\n",
              "      <td>66.904320</td>\n",
              "      <td>1</td>\n",
              "    </tr>\n",
              "    <tr>\n",
              "      <th>173</th>\n",
              "      <td>78.160645</td>\n",
              "      <td>70.632142</td>\n",
              "      <td>1</td>\n",
              "    </tr>\n",
              "    <tr>\n",
              "      <th>174</th>\n",
              "      <td>80.764158</td>\n",
              "      <td>69.862973</td>\n",
              "      <td>1</td>\n",
              "    </tr>\n",
              "    <tr>\n",
              "      <th>175</th>\n",
              "      <td>80.775833</td>\n",
              "      <td>67.399549</td>\n",
              "      <td>1</td>\n",
              "    </tr>\n",
              "    <tr>\n",
              "      <th>176</th>\n",
              "      <td>80.993590</td>\n",
              "      <td>69.982021</td>\n",
              "      <td>1</td>\n",
              "    </tr>\n",
              "    <tr>\n",
              "      <th>177</th>\n",
              "      <td>78.275087</td>\n",
              "      <td>69.176533</td>\n",
              "      <td>1</td>\n",
              "    </tr>\n",
              "    <tr>\n",
              "      <th>178</th>\n",
              "      <td>83.492507</td>\n",
              "      <td>72.616037</td>\n",
              "      <td>1</td>\n",
              "    </tr>\n",
              "    <tr>\n",
              "      <th>179</th>\n",
              "      <td>80.098318</td>\n",
              "      <td>69.921021</td>\n",
              "      <td>1</td>\n",
              "    </tr>\n",
              "    <tr>\n",
              "      <th>180</th>\n",
              "      <td>80.469110</td>\n",
              "      <td>66.496748</td>\n",
              "      <td>1</td>\n",
              "    </tr>\n",
              "    <tr>\n",
              "      <th>181</th>\n",
              "      <td>84.890842</td>\n",
              "      <td>68.629883</td>\n",
              "      <td>1</td>\n",
              "    </tr>\n",
              "    <tr>\n",
              "      <th>182</th>\n",
              "      <td>78.738007</td>\n",
              "      <td>75.471301</td>\n",
              "      <td>1</td>\n",
              "    </tr>\n",
              "    <tr>\n",
              "      <th>183</th>\n",
              "      <td>85.541291</td>\n",
              "      <td>70.172513</td>\n",
              "      <td>1</td>\n",
              "    </tr>\n",
              "    <tr>\n",
              "      <th>184</th>\n",
              "      <td>84.618302</td>\n",
              "      <td>70.288251</td>\n",
              "      <td>1</td>\n",
              "    </tr>\n",
              "    <tr>\n",
              "      <th>185</th>\n",
              "      <td>84.977963</td>\n",
              "      <td>71.807054</td>\n",
              "      <td>1</td>\n",
              "    </tr>\n",
              "    <tr>\n",
              "      <th>186</th>\n",
              "      <td>79.654574</td>\n",
              "      <td>67.807219</td>\n",
              "      <td>1</td>\n",
              "    </tr>\n",
              "    <tr>\n",
              "      <th>187</th>\n",
              "      <td>82.384679</td>\n",
              "      <td>68.660923</td>\n",
              "      <td>1</td>\n",
              "    </tr>\n",
              "    <tr>\n",
              "      <th>188</th>\n",
              "      <td>80.958147</td>\n",
              "      <td>72.908409</td>\n",
              "      <td>1</td>\n",
              "    </tr>\n",
              "    <tr>\n",
              "      <th>189</th>\n",
              "      <td>79.814692</td>\n",
              "      <td>70.066581</td>\n",
              "      <td>1</td>\n",
              "    </tr>\n",
              "    <tr>\n",
              "      <th>190</th>\n",
              "      <td>81.405856</td>\n",
              "      <td>67.773252</td>\n",
              "      <td>1</td>\n",
              "    </tr>\n",
              "    <tr>\n",
              "      <th>191</th>\n",
              "      <td>75.102120</td>\n",
              "      <td>70.904058</td>\n",
              "      <td>1</td>\n",
              "    </tr>\n",
              "    <tr>\n",
              "      <th>192</th>\n",
              "      <td>77.225946</td>\n",
              "      <td>66.192204</td>\n",
              "      <td>1</td>\n",
              "    </tr>\n",
              "    <tr>\n",
              "      <th>193</th>\n",
              "      <td>82.028764</td>\n",
              "      <td>70.166100</td>\n",
              "      <td>1</td>\n",
              "    </tr>\n",
              "    <tr>\n",
              "      <th>194</th>\n",
              "      <td>80.954167</td>\n",
              "      <td>65.899685</td>\n",
              "      <td>1</td>\n",
              "    </tr>\n",
              "    <tr>\n",
              "      <th>195</th>\n",
              "      <td>79.558950</td>\n",
              "      <td>72.429533</td>\n",
              "      <td>1</td>\n",
              "    </tr>\n",
              "    <tr>\n",
              "      <th>196</th>\n",
              "      <td>80.531614</td>\n",
              "      <td>67.864212</td>\n",
              "      <td>1</td>\n",
              "    </tr>\n",
              "    <tr>\n",
              "      <th>197</th>\n",
              "      <td>78.230803</td>\n",
              "      <td>72.025471</td>\n",
              "      <td>1</td>\n",
              "    </tr>\n",
              "    <tr>\n",
              "      <th>198</th>\n",
              "      <td>77.380942</td>\n",
              "      <td>68.576689</td>\n",
              "      <td>1</td>\n",
              "    </tr>\n",
              "    <tr>\n",
              "      <th>199</th>\n",
              "      <td>80.249036</td>\n",
              "      <td>66.005061</td>\n",
              "      <td>1</td>\n",
              "    </tr>\n",
              "  </tbody>\n",
              "</table>\n",
              "<p>200 rows × 3 columns</p>\n",
              "</div>"
            ],
            "text/plain": [
              "     feature_1  feature_2  class\n",
              "0    76.284982  60.928198      0\n",
              "1    76.020258  60.797732      0\n",
              "2    76.001697  62.508987      0\n",
              "3    80.181739  64.425732      0\n",
              "4    78.467312  61.504805      0\n",
              "5    78.252342  61.528269      0\n",
              "6    77.881669  57.537015      0\n",
              "7    76.056499  64.518068      0\n",
              "8    80.097033  59.205459      0\n",
              "9    76.462411  58.254293      0\n",
              "10   76.532905  63.391683      0\n",
              "11   81.813037  57.794224      0\n",
              "12   72.699649  58.061095      0\n",
              "13   77.213404  57.757270      0\n",
              "14   76.679257  63.461161      0\n",
              "15   74.739075  57.442868      0\n",
              "16   79.020948  61.641011      0\n",
              "17   79.010728  57.413238      0\n",
              "18   81.255086  61.453509      0\n",
              "19   78.691649  57.448168      0\n",
              "20   76.644596  60.861159      0\n",
              "21   76.986072  61.890529      0\n",
              "22   77.665627  60.862211      0\n",
              "23   76.459880  62.497705      0\n",
              "24   74.276068  61.447592      0\n",
              "25   76.281982  57.866243      0\n",
              "26   78.359785  57.494943      0\n",
              "27   81.442303  62.281087      0\n",
              "28   76.353746  56.707815      0\n",
              "29   75.659582  57.514569      0\n",
              "..         ...        ...    ...\n",
              "170  79.380286  66.146315      1\n",
              "171  81.506206  70.234188      1\n",
              "172  78.288736  66.904320      1\n",
              "173  78.160645  70.632142      1\n",
              "174  80.764158  69.862973      1\n",
              "175  80.775833  67.399549      1\n",
              "176  80.993590  69.982021      1\n",
              "177  78.275087  69.176533      1\n",
              "178  83.492507  72.616037      1\n",
              "179  80.098318  69.921021      1\n",
              "180  80.469110  66.496748      1\n",
              "181  84.890842  68.629883      1\n",
              "182  78.738007  75.471301      1\n",
              "183  85.541291  70.172513      1\n",
              "184  84.618302  70.288251      1\n",
              "185  84.977963  71.807054      1\n",
              "186  79.654574  67.807219      1\n",
              "187  82.384679  68.660923      1\n",
              "188  80.958147  72.908409      1\n",
              "189  79.814692  70.066581      1\n",
              "190  81.405856  67.773252      1\n",
              "191  75.102120  70.904058      1\n",
              "192  77.225946  66.192204      1\n",
              "193  82.028764  70.166100      1\n",
              "194  80.954167  65.899685      1\n",
              "195  79.558950  72.429533      1\n",
              "196  80.531614  67.864212      1\n",
              "197  78.230803  72.025471      1\n",
              "198  77.380942  68.576689      1\n",
              "199  80.249036  66.005061      1\n",
              "\n",
              "[200 rows x 3 columns]"
            ]
          },
          "metadata": {
            "tags": []
          }
        }
      ]
    },
    {
      "cell_type": "code",
      "metadata": {
        "colab_type": "code",
        "id": "WByKeh-dAVul",
        "outputId": "de8b25fc-afad-4df4-9efd-c9221ef58386",
        "colab": {
          "base_uri": "https://localhost:8080/",
          "height": 378
        }
      },
      "source": [
        "import numpy as np\n",
        "\n",
        "X = dataset_df.iloc[:,0:2].to_numpy()\n",
        "y = dataset_df.iloc[:,2].to_numpy()\n",
        "P = np.zeros(X.shape)\n",
        "P[np.arange(0,len(X)),y] = 1\n",
        "W,b = np.zeros([P.shape[1],X.shape[1]]), np.zeros([P.shape[1],1])\n",
        "\n",
        "\n",
        "def plot_softmax_model(X,y,W,b,lines):\n",
        "\n",
        "    class_colors = ['blue', 'red', 'green', 'purple', 'pink']\n",
        "          \n",
        "    if lines:\n",
        "        X_std = (X - np.mean(X, axis = 0))/np.std(X, axis = 0)\n",
        "    else:\n",
        "        X_std = X\n",
        "\n",
        "    line_X_stds = np.arange(min(X_std[:,0])-2, max(X_std[:,0]) + 2) \n",
        "   \n",
        "    plt.figure(figsize = (6,6))\n",
        "    plt.rcParams['axes.facecolor'] = 'lightsteelblue'\n",
        "    plt.grid(c='white')\n",
        "\n",
        "    plt.xlim(min(X_std[:,0])-2, max(X_std[:,0]) + 2)\n",
        "    plt.ylim(min(X_std[:,1])-2, max(X_std[:,1]) + 2)\n",
        "      \n",
        "    for i in range(W.shape[0]):       \n",
        "        plt.scatter(X_std[np.where(y == i),0], X_std[np.where(y == i),1], marker = 'o', color = class_colors[i])\n",
        "\n",
        "    if lines:   \n",
        "        for i in range(W.shape[0]):\n",
        "            plt.plot(line_X_stds, -1*(W[i,0]/W[i,1])*line_X_stds - (b[i]/W[i,1]), color = class_colors[i])\n",
        "\n",
        "    plt.show()\n",
        "\n",
        "\n",
        "plot_softmax_model(X,y,W,b,False)"
      ],
      "execution_count": 0,
      "outputs": [
        {
          "output_type": "display_data",
          "data": {
            "image/png": "[encoded data removed]",
            "text/plain": [
              "<Figure size 432x432 with 1 Axes>"
            ]
          },
          "metadata": {
            "tags": []
          }
        }
      ]
    },
    {
      "cell_type": "markdown",
      "metadata": {
        "colab_type": "text",
        "id": "eH1x8sHf32yD"
      },
      "source": [
        "#### Softmax Model\n",
        "\n",
        "* The softmax function is implemented according to the following expression \n",
        "\\begin{equation}\n",
        "\\hat{p}_i = \\frac{e^{s_i - max(s)}}{\\sum_{j = 1}^C e^{e_j - max(s)}} = \\frac{e^{s_i}}{\\sum_{j = 1}^C e^{e_j }}. \n",
        "\\end{equation}\n",
        "\n",
        "*  Indeed $s_j \\in{\\rm I\\!R}$ and thus have no limits. The value of $e^{s_j}$ may easily become so large that it will  no longer be representable in the computer resulting in an ***overfloating*** error. To prevent this, we substract the biggest score from every $s_j$. Simple math will show that two  expressions are exactly the same.   "
      ]
    },
    {
      "cell_type": "code",
      "metadata": {
        "colab_type": "code",
        "id": "DDA0wVGW01dl",
        "colab": {}
      },
      "source": [
        "def softmax(X,W,b):\n",
        "    S = np.transpose(W.dot(X.transpose()) + b)\n",
        "    S_max = np.max(S, axis = 1)\n",
        "    S_minus_S_max = S - S_max.reshape([len(S_max), 1])\n",
        "    P_hat = np.exp(S_minus_S_max)/np.sum(np.exp(S_minus_S_max), axis = 1).reshape([len(X),1])\n",
        "    return P_hat"
      ],
      "execution_count": 0,
      "outputs": []
    },
    {
      "cell_type": "markdown",
      "metadata": {
        "colab_type": "text",
        "id": "miZJDqkt9LKZ"
      },
      "source": [
        "#### Error Functions\n",
        "\n",
        "* we implement the negative log-likelihood function but also the error of classification which is simply the rate of rightly classified examples in $\\bf{X}$."
      ]
    },
    {
      "cell_type": "code",
      "metadata": {
        "colab_type": "code",
        "id": "SjMy2hU58bHC",
        "colab": {}
      },
      "source": [
        "def neg_log_likelihood(X,P,W,b):\n",
        "    return (-1/(len(X))) * np.sum(np.sum((P * np.log(softmax(X,W,b))), axis = 1))\n",
        "\n",
        "def error_classification(X,y,W,b): \n",
        "    return np.sum(y == np.argmax(softmax(X,W,b), axis = 1))/len(y)\n"
      ],
      "execution_count": 0,
      "outputs": []
    },
    {
      "cell_type": "markdown",
      "metadata": {
        "colab_type": "text",
        "id": "GK-Ow91M9jNG"
      },
      "source": [
        "#### Gradient of $J$ w.r.t parameters\n",
        "\n",
        " * we implement the expressions of the gradients and jacobians according to the formalism explicited above."
      ]
    },
    {
      "cell_type": "code",
      "metadata": {
        "colab_type": "code",
        "id": "_KlzcLXp9ccH",
        "colab": {}
      },
      "source": [
        "def gradient_neg_log_likelihood(X,y,P,W,b):\n",
        "   \n",
        "    X_1 = np.hstack([X, np.ones([len(X),1])])\n",
        "    theta = np.hstack([W,b])\n",
        "    \n",
        "    theta_idx = list(np.ndindex(theta.shape))\n",
        "    P_idx = S_idx = list(np.ndindex((X.shape[0], len(b))))\n",
        "    \n",
        "    jacobian_s = np.array([X_1[i[0], j[1]] * ((i[1] == j[0]) or (j[0] == (X.shape[1]))) \n",
        "                  for (i,j) in [(i,j) for i in S_idx for j in theta_idx]]).reshape(X.shape[0]*len(b), np.product(theta.shape))  \n",
        "    \n",
        "    P_hat = softmax(X,W,b) \n",
        "        \n",
        "    jacobian_idx = [(i,j) for i in P_idx for j in S_idx]\n",
        "    jacobian_p_hat =  np.array([ (i[0] == j[0]) * ( ( (i[1] == j[1]) * P_hat[i]) - ( P_hat[i] * P_hat[j])) \n",
        "                        for (i,j) in jacobian_idx]).reshape([np.prod(P_hat.shape), np.prod(P_hat.shape)])\n",
        "    \n",
        "    gradient_J_p_hat = (-1/len(X)) *( np.array([(P[i]/P_hat[i]) for i in P_idx])).reshape([np.prod(P_hat.shape),1])\n",
        "    \n",
        "    gradient_J_theta = jacobian_s.transpose().dot(jacobian_p_hat.transpose().dot(gradient_J_p_hat))\n",
        "    \n",
        "    partial_theta = gradient_J_theta.reshape(theta.shape)\n",
        "    partial_W, partial_b = partial_theta[:,np.arange(0,W.shape[1])], partial_theta[:,(W.shape[1])].reshape(b.shape)\n",
        "    return partial_W, partial_b"
      ],
      "execution_count": 0,
      "outputs": []
    },
    {
      "cell_type": "markdown",
      "metadata": {
        "colab_type": "text",
        "id": "0Qlhte5F-hc1"
      },
      "source": [
        "#### Gradient Descent Algorithm\n",
        "\n",
        "* Gradient Descent algorithm: \n",
        "  * delta: learning step;\n",
        "  * threshold: the pourcentage of ***classification error*** we want to attain. If this pourcentage cannot be attained the algorithm will stop after $10^6$ iterations;\n",
        "  * random: boolean if True weights are initialized randomly otherwise they are initialized at zero."
      ]
    },
    {
      "cell_type": "code",
      "metadata": {
        "colab_type": "code",
        "id": "zdByoQ0i9oiO",
        "colab": {}
      },
      "source": [
        "def gradient_descent_softmax(X,y,P,delta,threshold, random = True):\n",
        "   \n",
        "    if random:\n",
        "        W,b = np.random.normal(0,1, size = [P.shape[1],X.shape[1]]), np.zeros([P.shape[1],1]) #np.random.normal(0,1,[P.shape[1],1])#\n",
        "    else:\n",
        "        W,b = np.zeros([P.shape[1],X.shape[1]]), np.zeros([P.shape[1],1])\n",
        "    \n",
        "    i = 0\n",
        "    while (error_classification(X,y,W,b) < threshold) and (i < 1e6):\n",
        "        partial_W, partial_b = gradient_neg_log_likelihood(X,y,P,W,b)\n",
        "        W, b = W - (delta*partial_W), b - (delta*partial_b)\n",
        "        print('Iteration %i CrossEntropy = %f and Precision = %f%s' % (i, neg_log_likelihood(X,P,W,b), error_classification(X,y,W,b)*100,'%'))\n",
        "        i = i + 1\n",
        "\n",
        "    print('While Loop Left at Iteration %d with CrossEntropy = %f and Precision = %f'% (i, neg_log_likelihood(X,P,W,b), error_classification(X,y,W,b)*100))\n",
        "    return W,b"
      ],
      "execution_count": 0,
      "outputs": []
    },
    {
      "cell_type": "markdown",
      "metadata": {
        "colab_type": "text",
        "id": "UGV0JATEEMP6"
      },
      "source": [
        "#### Execution of Everything"
      ]
    },
    {
      "cell_type": "code",
      "metadata": {
        "colab_type": "code",
        "id": "oHtJQO_sGgQp",
        "outputId": "cdc3fc87-fcdd-43c9-beb4-36d7e95ddcfb",
        "colab": {
          "base_uri": "https://localhost:8080/",
          "height": 1000
        }
      },
      "source": [
        "X = (X - np.mean(X, axis = 0))/np.std(X, axis = 0)\n",
        "W_hat,b_hat = gradient_descent_softmax(X,y,P,0.1, 0.99, random = True)\n",
        "plot_softmax_model(X,y,W_hat,b_hat,True)"
      ],
      "execution_count": 0,
      "outputs": [
        {
          "output_type": "stream",
          "text": [
            "Iteration 0 CrossEntropy = 1.499864 and Precision = 48.000000%\n",
            "Iteration 1 CrossEntropy = 1.408507 and Precision = 49.000000%\n",
            "Iteration 2 CrossEntropy = 1.321763 and Precision = 51.500000%\n",
            "Iteration 3 CrossEntropy = 1.239593 and Precision = 53.500000%\n",
            "Iteration 4 CrossEntropy = 1.161943 and Precision = 54.500000%\n",
            "Iteration 5 CrossEntropy = 1.088745 and Precision = 55.500000%\n",
            "Iteration 6 CrossEntropy = 1.019915 and Precision = 58.500000%\n",
            "Iteration 7 CrossEntropy = 0.955357 and Precision = 59.500000%\n",
            "Iteration 8 CrossEntropy = 0.894958 and Precision = 61.000000%\n",
            "Iteration 9 CrossEntropy = 0.838592 and Precision = 61.500000%\n",
            "Iteration 10 CrossEntropy = 0.786117 and Precision = 63.000000%\n",
            "Iteration 11 CrossEntropy = 0.737379 and Precision = 66.000000%\n",
            "Iteration 12 CrossEntropy = 0.692215 and Precision = 68.000000%\n",
            "Iteration 13 CrossEntropy = 0.650448 and Precision = 69.500000%\n",
            "Iteration 14 CrossEntropy = 0.611894 and Precision = 72.000000%\n",
            "Iteration 15 CrossEntropy = 0.576366 and Precision = 72.500000%\n",
            "Iteration 16 CrossEntropy = 0.543669 and Precision = 74.000000%\n",
            "Iteration 17 CrossEntropy = 0.513611 and Precision = 74.500000%\n",
            "Iteration 18 CrossEntropy = 0.486000 and Precision = 75.500000%\n",
            "Iteration 19 CrossEntropy = 0.460647 and Precision = 77.500000%\n",
            "Iteration 20 CrossEntropy = 0.437370 and Precision = 79.000000%\n",
            "Iteration 21 CrossEntropy = 0.415996 and Precision = 81.000000%\n",
            "Iteration 22 CrossEntropy = 0.396361 and Precision = 83.000000%\n",
            "Iteration 23 CrossEntropy = 0.378311 and Precision = 83.500000%\n",
            "Iteration 24 CrossEntropy = 0.361704 and Precision = 85.000000%\n",
            "Iteration 25 CrossEntropy = 0.346409 and Precision = 86.500000%\n",
            "Iteration 26 CrossEntropy = 0.332307 and Precision = 87.000000%\n",
            "Iteration 27 CrossEntropy = 0.319290 and Precision = 87.500000%\n",
            "Iteration 28 CrossEntropy = 0.307257 and Precision = 87.500000%\n",
            "Iteration 29 CrossEntropy = 0.296121 and Precision = 89.000000%\n",
            "Iteration 30 CrossEntropy = 0.285799 and Precision = 89.500000%\n",
            "Iteration 31 CrossEntropy = 0.276220 and Precision = 90.000000%\n",
            "Iteration 32 CrossEntropy = 0.267317 and Precision = 90.000000%\n",
            "Iteration 33 CrossEntropy = 0.259030 and Precision = 91.000000%\n",
            "Iteration 34 CrossEntropy = 0.251306 and Precision = 91.500000%\n",
            "Iteration 35 CrossEntropy = 0.244097 and Precision = 92.000000%\n",
            "Iteration 36 CrossEntropy = 0.237359 and Precision = 92.000000%\n",
            "Iteration 37 CrossEntropy = 0.231051 and Precision = 92.000000%\n",
            "Iteration 38 CrossEntropy = 0.225138 and Precision = 92.000000%\n",
            "Iteration 39 CrossEntropy = 0.219589 and Precision = 92.500000%\n",
            "Iteration 40 CrossEntropy = 0.214372 and Precision = 93.500000%\n",
            "Iteration 41 CrossEntropy = 0.209462 and Precision = 93.500000%\n",
            "Iteration 42 CrossEntropy = 0.204835 and Precision = 93.500000%\n",
            "Iteration 43 CrossEntropy = 0.200468 and Precision = 93.500000%\n",
            "Iteration 44 CrossEntropy = 0.196342 and Precision = 94.500000%\n",
            "Iteration 45 CrossEntropy = 0.192438 and Precision = 95.000000%\n",
            "Iteration 46 CrossEntropy = 0.188741 and Precision = 95.000000%\n",
            "Iteration 47 CrossEntropy = 0.185234 and Precision = 95.000000%\n",
            "Iteration 48 CrossEntropy = 0.181906 and Precision = 95.000000%\n",
            "Iteration 49 CrossEntropy = 0.178742 and Precision = 95.000000%\n",
            "Iteration 50 CrossEntropy = 0.175732 and Precision = 95.000000%\n",
            "Iteration 51 CrossEntropy = 0.172865 and Precision = 95.000000%\n",
            "Iteration 52 CrossEntropy = 0.170132 and Precision = 96.000000%\n",
            "Iteration 53 CrossEntropy = 0.167524 and Precision = 96.000000%\n",
            "Iteration 54 CrossEntropy = 0.165033 and Precision = 96.000000%\n",
            "Iteration 55 CrossEntropy = 0.162652 and Precision = 96.000000%\n",
            "Iteration 56 CrossEntropy = 0.160373 and Precision = 96.000000%\n",
            "Iteration 57 CrossEntropy = 0.158191 and Precision = 96.500000%\n",
            "Iteration 58 CrossEntropy = 0.156100 and Precision = 96.500000%\n",
            "Iteration 59 CrossEntropy = 0.154094 and Precision = 96.500000%\n",
            "Iteration 60 CrossEntropy = 0.152169 and Precision = 96.500000%\n",
            "Iteration 61 CrossEntropy = 0.150320 and Precision = 96.500000%\n",
            "Iteration 62 CrossEntropy = 0.148543 and Precision = 96.500000%\n",
            "Iteration 63 CrossEntropy = 0.146833 and Precision = 96.500000%\n",
            "Iteration 64 CrossEntropy = 0.145188 and Precision = 96.500000%\n",
            "Iteration 65 CrossEntropy = 0.143603 and Precision = 97.000000%\n",
            "Iteration 66 CrossEntropy = 0.142076 and Precision = 97.000000%\n",
            "Iteration 67 CrossEntropy = 0.140603 and Precision = 97.000000%\n",
            "Iteration 68 CrossEntropy = 0.139182 and Precision = 97.000000%\n",
            "Iteration 69 CrossEntropy = 0.137811 and Precision = 97.000000%\n",
            "Iteration 70 CrossEntropy = 0.136486 and Precision = 97.000000%\n",
            "Iteration 71 CrossEntropy = 0.135206 and Precision = 97.000000%\n",
            "Iteration 72 CrossEntropy = 0.133968 and Precision = 97.500000%\n",
            "Iteration 73 CrossEntropy = 0.132771 and Precision = 97.500000%\n",
            "Iteration 74 CrossEntropy = 0.131612 and Precision = 97.500000%\n",
            "Iteration 75 CrossEntropy = 0.130489 and Precision = 97.500000%\n",
            "Iteration 76 CrossEntropy = 0.129402 and Precision = 97.500000%\n",
            "Iteration 77 CrossEntropy = 0.128349 and Precision = 98.000000%\n",
            "Iteration 78 CrossEntropy = 0.127327 and Precision = 98.000000%\n",
            "Iteration 79 CrossEntropy = 0.126336 and Precision = 98.000000%\n",
            "Iteration 80 CrossEntropy = 0.125374 and Precision = 98.500000%\n",
            "Iteration 81 CrossEntropy = 0.124441 and Precision = 98.500000%\n",
            "Iteration 82 CrossEntropy = 0.123534 and Precision = 98.500000%\n",
            "Iteration 83 CrossEntropy = 0.122653 and Precision = 98.500000%\n",
            "Iteration 84 CrossEntropy = 0.121796 and Precision = 98.500000%\n",
            "Iteration 85 CrossEntropy = 0.120964 and Precision = 98.500000%\n",
            "Iteration 86 CrossEntropy = 0.120153 and Precision = 98.500000%\n",
            "Iteration 87 CrossEntropy = 0.119365 and Precision = 98.500000%\n",
            "Iteration 88 CrossEntropy = 0.118598 and Precision = 98.500000%\n",
            "Iteration 89 CrossEntropy = 0.117851 and Precision = 98.500000%\n",
            "Iteration 90 CrossEntropy = 0.117123 and Precision = 98.000000%\n",
            "Iteration 91 CrossEntropy = 0.116414 and Precision = 98.000000%\n",
            "Iteration 92 CrossEntropy = 0.115723 and Precision = 98.000000%\n",
            "Iteration 93 CrossEntropy = 0.115049 and Precision = 98.000000%\n",
            "Iteration 94 CrossEntropy = 0.114391 and Precision = 98.000000%\n",
            "Iteration 95 CrossEntropy = 0.113750 and Precision = 98.500000%\n",
            "Iteration 96 CrossEntropy = 0.113124 and Precision = 98.500000%\n",
            "Iteration 97 CrossEntropy = 0.112513 and Precision = 98.500000%\n",
            "Iteration 98 CrossEntropy = 0.111917 and Precision = 99.000000%\n",
            "While Loop Left at Iteration 99 with CrossEntropy = 0.111917 and Precision = 99.000000\n"
          ],
          "name": "stdout"
        },
        {
          "output_type": "display_data",
          "data": {
            "image/png": "[encoded data removed]",
            "text/plain": [
              "<Figure size 432x432 with 1 Axes>"
            ]
          },
          "metadata": {
            "tags": []
          }
        }
      ]
    }
  ]
}